{
 "cells": [
  {
   "cell_type": "code",
   "execution_count": 1,
   "metadata": {},
   "outputs": [],
   "source": [
    "import numpy as np"
   ]
  },
  {
   "cell_type": "code",
   "execution_count": 2,
   "metadata": {},
   "outputs": [
    {
     "name": "stdout",
     "output_type": "stream",
     "text": [
      "[1, 2, 3] <class 'list'>\n",
      "[1 2 3] <class 'numpy.ndarray'>\n"
     ]
    }
   ],
   "source": [
    "list1 = [1, 2, 3]\n",
    "print(list1, type(list1))\n",
    "\n",
    "array1 = np.array(list1)\n",
    "print(array1, type(array1))"
   ]
  },
  {
   "cell_type": "code",
   "execution_count": 3,
   "metadata": {},
   "outputs": [
    {
     "name": "stdout",
     "output_type": "stream",
     "text": [
      "[1 2 3] <class 'numpy.ndarray'> (3,) 1\n",
      "[[1 2 3]] <class 'numpy.ndarray'> (1, 3) 2\n",
      "[[1 2 3]\n",
      " [2 3 4]] <class 'numpy.ndarray'> (2, 3) 2\n"
     ]
    }
   ],
   "source": [
    "array1 = np.array([1, 2, 3])\n",
    "print(array1, type(array1), array1.shape, array1.ndim)\n",
    "\n",
    "array2 = np.array([[1, 2, 3]])\n",
    "print(array2, type(array2), array2.shape, array2.ndim)\n",
    "\n",
    "array3 = np.array([[1, 2, 3],\n",
    "                  [2, 3, 4]])\n",
    "print(array3, type(array3), array3.shape, array3.ndim)"
   ]
  },
  {
   "cell_type": "code",
   "execution_count": 4,
   "metadata": {},
   "outputs": [
    {
     "name": "stdout",
     "output_type": "stream",
     "text": [
      "int32\n",
      "<U11\n",
      "float64\n"
     ]
    }
   ],
   "source": [
    "list1 = [1, 2, 3]\n",
    "array1 = np.array(list1)\n",
    "print(array1.dtype)\n",
    "\n",
    "list2 = [1, 2, 'str']\n",
    "array2 = np.array(list2)\n",
    "print(array2.dtype)\n",
    "\n",
    "list3 = [1, 2, 3.0]\n",
    "array3 = np.array(list3)\n",
    "print(array3.dtype)"
   ]
  },
  {
   "cell_type": "code",
   "execution_count": 5,
   "metadata": {},
   "outputs": [
    {
     "name": "stdout",
     "output_type": "stream",
     "text": [
      "[1 2 3] int32\n",
      "[1. 2. 3.] float64\n",
      "[1 2 3] int32\n"
     ]
    }
   ],
   "source": [
    "array_int = np.array([1, 2, 3])\n",
    "print(array_int, array_int.dtype)\n",
    "\n",
    "array_float = array_int.astype('float64')\n",
    "print(array_float, array_float.dtype)\n",
    "\n",
    "array_int1 = array_float.astype('int32')\n",
    "print(array_int1, array_int1.dtype)"
   ]
  },
  {
   "cell_type": "code",
   "execution_count": 6,
   "metadata": {},
   "outputs": [
    {
     "name": "stdout",
     "output_type": "stream",
     "text": [
      "[1.1 2.1 3.1] float64\n",
      "[1 2 3] int32\n"
     ]
    }
   ],
   "source": [
    "array_float1 = np.array([1.1, 2.1, 3.1])\n",
    "print(array_float1, array_float1.dtype)\n",
    "\n",
    "array_int2 = array_float1.astype('int32')\n",
    "print(array_int2, array_int2.dtype)"
   ]
  },
  {
   "cell_type": "code",
   "execution_count": 7,
   "metadata": {},
   "outputs": [
    {
     "name": "stdout",
     "output_type": "stream",
     "text": [
      "15\n",
      "[3 5 7]\n",
      "[6 9]\n"
     ]
    }
   ],
   "source": [
    "array2 = np.array([[1, 2, 3],\n",
    "                  [2, 3, 4]])\n",
    "\n",
    "print(array2.sum())\n",
    "print(array2.sum(axis=0))\n",
    "print(array2.sum(axis=1))"
   ]
  },
  {
   "cell_type": "code",
   "execution_count": 8,
   "metadata": {},
   "outputs": [
    {
     "name": "stdout",
     "output_type": "stream",
     "text": [
      "[0 1 2 3 4 5 6 7 8 9] int32 (10,)\n"
     ]
    }
   ],
   "source": [
    "sequence_array = np.arange(10)\n",
    "print(sequence_array, sequence_array.dtype, sequence_array.shape)"
   ]
  },
  {
   "cell_type": "code",
   "execution_count": 9,
   "metadata": {},
   "outputs": [
    {
     "name": "stdout",
     "output_type": "stream",
     "text": [
      "[[0 0]\n",
      " [0 0]\n",
      " [0 0]] int32 (3, 2)\n"
     ]
    }
   ],
   "source": [
    "zero_array = np.zeros((3, 2), dtype='int32')\n",
    "print(zero_array, zero_array.dtype, zero_array.shape)"
   ]
  },
  {
   "cell_type": "code",
   "execution_count": 10,
   "metadata": {},
   "outputs": [
    {
     "name": "stdout",
     "output_type": "stream",
     "text": [
      "[[1. 1.]\n",
      " [1. 1.]\n",
      " [1. 1.]] float64 (3, 2)\n"
     ]
    }
   ],
   "source": [
    "one_array = np.ones((3, 2))\n",
    "print(one_array, one_array.dtype, one_array.shape)"
   ]
  },
  {
   "cell_type": "code",
   "execution_count": 11,
   "metadata": {},
   "outputs": [
    {
     "name": "stdout",
     "output_type": "stream",
     "text": [
      "[0 1 2 3 4 5 6 7 8 9]\n",
      "[[0 1 2 3 4]\n",
      " [5 6 7 8 9]]\n",
      "[[0 1]\n",
      " [2 3]\n",
      " [4 5]\n",
      " [6 7]\n",
      " [8 9]]\n"
     ]
    }
   ],
   "source": [
    "array1 = np.arange(10)\n",
    "print(array1)\n",
    "array2 = array1.reshape(2, 5)\n",
    "print(array2)\n",
    "array3 = array1.reshape(5, 2)\n",
    "print(array3)"
   ]
  },
  {
   "cell_type": "code",
   "execution_count": 12,
   "metadata": {},
   "outputs": [
    {
     "name": "stdout",
     "output_type": "stream",
     "text": [
      "[0 1 2 3 4 5 6 7 8 9] (10,)\n",
      "[[0 1 2 3 4]\n",
      " [5 6 7 8 9]] (2, 5)\n",
      "[[0 1]\n",
      " [2 3]\n",
      " [4 5]\n",
      " [6 7]\n",
      " [8 9]] (5, 2)\n"
     ]
    }
   ],
   "source": [
    "array1 = np.arange(10)\n",
    "print(array1, array1.shape)\n",
    "\n",
    "array2 = array1.reshape(-1, 5)\n",
    "print(array2, array2.shape)\n",
    "\n",
    "array3 = array1.reshape(5, -1)\n",
    "print(array3, array3.shape)"
   ]
  },
  {
   "cell_type": "code",
   "execution_count": 13,
   "metadata": {},
   "outputs": [
    {
     "name": "stdout",
     "output_type": "stream",
     "text": [
      "[[0]\n",
      " [1]\n",
      " [2]\n",
      " [3]\n",
      " [4]] (5, 1)\n",
      "[0 1 2 3 4] (5,)\n"
     ]
    }
   ],
   "source": [
    "array1 = np.arange(5)\n",
    "\n",
    "array2d_1 = array1.reshape(-1, 1)\n",
    "print(array2d_1, array2d_1.shape)\n",
    "\n",
    "array1d = array2d_1.reshape(-1,)\n",
    "print(array1d, array1d.shape)"
   ]
  },
  {
   "cell_type": "code",
   "execution_count": 14,
   "metadata": {},
   "outputs": [
    {
     "name": "stdout",
     "output_type": "stream",
     "text": [
      "[1 2 3 4 5 6 7 8 9]\n",
      "array1[2] : 3\n",
      "<class 'numpy.int32'>\n",
      "array1[-1] : 9\n",
      "array1[-2] : 8\n"
     ]
    }
   ],
   "source": [
    "array1 = np.arange(start=1, stop=10)\n",
    "print(array1)\n",
    "\n",
    "print(\"array1[2] :\", array1[2])\n",
    "print(type(array1[2]))\n",
    "\n",
    "print(\"array1[-1] :\", array1[-1])\n",
    "print(\"array1[-2] :\", array1[-2])"
   ]
  },
  {
   "cell_type": "code",
   "execution_count": 15,
   "metadata": {},
   "outputs": [
    {
     "name": "stdout",
     "output_type": "stream",
     "text": [
      "[9 2 3 4 5 6 7 8 0]\n"
     ]
    }
   ],
   "source": [
    "array1[0] = 9\n",
    "array1[8] = 0\n",
    "print(array1)"
   ]
  },
  {
   "cell_type": "code",
   "execution_count": 16,
   "metadata": {},
   "outputs": [
    {
     "name": "stdout",
     "output_type": "stream",
     "text": [
      "[[1 2 3]\n",
      " [4 5 6]\n",
      " [7 8 9]]\n",
      "array2d[0, 0] : 1\n",
      "array2d[0, 1] : 2\n",
      "array2d[1, 0] : 4\n",
      "array2d[2, 1] : 8\n",
      "array2d[2, 2] : 9\n"
     ]
    }
   ],
   "source": [
    "array1d = np.arange(start=1, stop=10)\n",
    "array2d = array1d.reshape(3, 3)\n",
    "print(array2d)\n",
    "print(\"array2d[0, 0] :\", array2d[0, 0])\n",
    "print(\"array2d[0, 1] :\", array2d[0, 1])\n",
    "print(\"array2d[1, 0] :\", array2d[1, 0])\n",
    "print(\"array2d[2, 1] :\", array2d[2, 1])\n",
    "print(\"array2d[2, 2] :\", array2d[2, 2])"
   ]
  },
  {
   "cell_type": "code",
   "execution_count": 17,
   "metadata": {},
   "outputs": [
    {
     "name": "stdout",
     "output_type": "stream",
     "text": [
      "array1 : [1 2 3 4 5 6 7 8 9]\n",
      "array1[0:3] : [1 2 3]\n",
      "<class 'numpy.ndarray'>\n",
      "array1[:3] : [1 2 3]\n",
      "array1[3:] : [4 5 6 7 8 9]\n",
      "array1[:] : [1 2 3 4 5 6 7 8 9]\n"
     ]
    }
   ],
   "source": [
    "array1 = np.arange(start=1, stop=10)\n",
    "print(\"array1 :\", array1)\n",
    "\n",
    "print(\"array1[0:3] :\", array1[0:3])\n",
    "print(type(array1[0:3]))\n",
    "\n",
    "print(\"array1[:3] :\", array1[:3])\n",
    "print(\"array1[3:] :\", array1[3:])\n",
    "print(\"array1[:] :\", array1[:])"
   ]
  },
  {
   "cell_type": "code",
   "execution_count": 18,
   "metadata": {},
   "outputs": [
    {
     "name": "stdout",
     "output_type": "stream",
     "text": [
      "[[1 2 3]\n",
      " [4 5 6]\n",
      " [7 8 9]]\n",
      "array2d[0:2, 0:2]\n",
      " [[1 2]\n",
      " [4 5]]\n",
      "array2d[1:3, 0:3]\n",
      " [[4 5 6]\n",
      " [7 8 9]]\n",
      "array2d[1:3, :]\n",
      " [[4 5 6]\n",
      " [7 8 9]]\n",
      "array2d[:, :]\n",
      " [[1 2 3]\n",
      " [4 5 6]\n",
      " [7 8 9]]\n",
      "array2d[:2, 1:]\n",
      " [[2 3]\n",
      " [5 6]]\n",
      "array2d[:2, 0]\n",
      " [1 4]\n"
     ]
    }
   ],
   "source": [
    "array1d = np.arange(start=1, stop=10)\n",
    "array2d = array1d.reshape(3, 3)\n",
    "print(array2d)\n",
    "\n",
    "print(\"array2d[0:2, 0:2]\\n\", array2d[0:2, 0:2])\n",
    "print(\"array2d[1:3, 0:3]\\n\", array2d[1:3, 0:3])\n",
    "print(\"array2d[1:3, :]\\n\", array2d[1:3, :])\n",
    "print(\"array2d[:, :]\\n\", array2d[:, :])\n",
    "print(\"array2d[:2, 1:]\\n\", array2d[:2, 1:])\n",
    "print(\"array2d[:2, 0]\\n\", array2d[:2, 0])"
   ]
  },
  {
   "cell_type": "code",
   "execution_count": 19,
   "metadata": {},
   "outputs": [
    {
     "name": "stdout",
     "output_type": "stream",
     "text": [
      "[3 6]\n",
      "[3, 6]\n",
      "[[1 2]\n",
      " [7 8]]\n",
      "[[1, 2], [7, 8]]\n",
      "[[1 2 3]\n",
      " [4 5 6]]\n",
      "[[1, 2, 3], [4, 5, 6]]\n"
     ]
    }
   ],
   "source": [
    "print(array2d[[0, 1], 2])\n",
    "print(array2d[[0, 1], 2].tolist())\n",
    "\n",
    "print(array2d[[0, 2], 0:2])\n",
    "print(array2d[[0, 2], 0:2].tolist())\n",
    "\n",
    "print(array2d[[0, 1]])\n",
    "print(array2d[[0, 1]].tolist())"
   ]
  },
  {
   "cell_type": "code",
   "execution_count": 20,
   "metadata": {},
   "outputs": [
    {
     "name": "stdout",
     "output_type": "stream",
     "text": [
      "[False False False False False  True  True  True  True]\n",
      "<class 'numpy.ndarray'>\n"
     ]
    }
   ],
   "source": [
    "print(array1d > 5)\n",
    "print(type(array1d > 5))"
   ]
  },
  {
   "cell_type": "code",
   "execution_count": 21,
   "metadata": {},
   "outputs": [
    {
     "name": "stdout",
     "output_type": "stream",
     "text": [
      "[1 2 3 4 5 6 7 8 9]\n",
      "array1d[array1d > 5] : [6 7 8 9]\n"
     ]
    }
   ],
   "source": [
    "print(array1d)\n",
    "print(\"array1d[array1d > 5] :\", array1d[array1d > 5])"
   ]
  },
  {
   "cell_type": "code",
   "execution_count": 22,
   "metadata": {},
   "outputs": [
    {
     "name": "stdout",
     "output_type": "stream",
     "text": [
      "array1d[boolean_indexes] : [6 7 8 9]\n"
     ]
    }
   ],
   "source": [
    "boolean_indexes = np.array([False, False, False, False, False,  True,  True,  True,  True])\n",
    "print(\"array1d[boolean_indexes] :\", array1d[boolean_indexes])"
   ]
  },
  {
   "cell_type": "code",
   "execution_count": 23,
   "metadata": {},
   "outputs": [
    {
     "name": "stdout",
     "output_type": "stream",
     "text": [
      "[6 7 8 9]\n"
     ]
    }
   ],
   "source": [
    "target = []\n",
    "\n",
    "for i in range(0, 9):\n",
    "    if array1d[i] > 5:\n",
    "        target.append(array1d[i])\n",
    "        \n",
    "print(np.array(target))"
   ]
  },
  {
   "cell_type": "code",
   "execution_count": 24,
   "metadata": {},
   "outputs": [
    {
     "name": "stdout",
     "output_type": "stream",
     "text": [
      "[4 2 8 6 5]\n"
     ]
    }
   ],
   "source": [
    "arr = np.array([4, 2, 8, 6, 5])\n",
    "print(arr)"
   ]
  },
  {
   "cell_type": "code",
   "execution_count": 25,
   "metadata": {},
   "outputs": [
    {
     "name": "stdout",
     "output_type": "stream",
     "text": [
      "sort_arr1 : [2 4 5 6 8]\n",
      "arr : [4 2 8 6 5]\n"
     ]
    }
   ],
   "source": [
    "sort_arr1 = np.sort(arr)\n",
    "print(\"sort_arr1 :\", sort_arr1)\n",
    "print(\"arr :\", arr)"
   ]
  },
  {
   "cell_type": "code",
   "execution_count": 26,
   "metadata": {},
   "outputs": [
    {
     "name": "stdout",
     "output_type": "stream",
     "text": [
      "None\n",
      "[2 4 5 6 8]\n"
     ]
    }
   ],
   "source": [
    "sort_arr2 = arr.sort()\n",
    "print(sort_arr2)\n",
    "print(arr)"
   ]
  },
  {
   "cell_type": "code",
   "execution_count": 27,
   "metadata": {},
   "outputs": [
    {
     "name": "stdout",
     "output_type": "stream",
     "text": [
      "[[ 5  1  4]\n",
      " [ 6  2  9]\n",
      " [ 9  3 10]]\n",
      "[[ 3  4  9]\n",
      " [ 2  5 10]\n",
      " [ 1  6  9]]\n"
     ]
    }
   ],
   "source": [
    "array2d = np.array([[9, 3, 4],\n",
    "                  [5, 2, 10],\n",
    "                   [6, 1, 9]])\n",
    "\n",
    "sort_array2d_axis0 = np.sort(array2d, axis=0)\n",
    "print(sort_array2d_axis0)\n",
    "\n",
    "sort_array2d_axis1 = np.sort(array2d, axis=1)\n",
    "print(sort_array2d_axis1)"
   ]
  },
  {
   "cell_type": "code",
   "execution_count": 28,
   "metadata": {},
   "outputs": [
    {
     "name": "stdout",
     "output_type": "stream",
     "text": [
      "arr : [9 5 2 1 3]\n",
      "np.sort(arr) : [1 2 3 5 9]\n",
      "argsrt : \n",
      "[3 2 4 1 0]\n",
      "<class 'numpy.ndarray'>\n"
     ]
    }
   ],
   "source": [
    "arr = np.array([9, 5, 2, 1, 3])\n",
    "print(\"arr :\", arr)\n",
    "print(\"np.sort(arr) :\", np.sort(arr))\n",
    "\n",
    "print(\"argsrt : \")\n",
    "sort_indices = np.argsort(arr)\n",
    "print(sort_indices)\n",
    "print(type(sort_indices))"
   ]
  },
  {
   "cell_type": "code",
   "execution_count": 29,
   "metadata": {},
   "outputs": [
    {
     "name": "stdout",
     "output_type": "stream",
     "text": [
      "[9 5 3 2 1]\n",
      "[0 1 4 2 3]\n"
     ]
    }
   ],
   "source": [
    "print(np.sort(arr)[::-1])\n",
    "sort_indices_desc = np.argsort(arr)[::-1]\n",
    "print(sort_indices_desc)"
   ]
  },
  {
   "cell_type": "code",
   "execution_count": 30,
   "metadata": {},
   "outputs": [
    {
     "name": "stdout",
     "output_type": "stream",
     "text": [
      "[1 3 2 0]\n",
      "['Lee' 'Choi' 'Park' 'Kim']\n",
      "[75 79 80 99]\n"
     ]
    }
   ],
   "source": [
    "name_arr = np.array(['Kim', 'Lee', 'Park', 'Choi'])\n",
    "score_arr = np.array([99, 75, 80, 79])\n",
    "\n",
    "sort_indices = np.argsort(score_arr)\n",
    "print(sort_indices)\n",
    "\n",
    "name_arr_sort = name_arr[sort_indices]\n",
    "score_arr_sort = score_arr[sort_indices]\n",
    "print(name_arr_sort)\n",
    "print(score_arr_sort)"
   ]
  },
  {
   "cell_type": "code",
   "execution_count": 31,
   "metadata": {},
   "outputs": [
    {
     "name": "stdout",
     "output_type": "stream",
     "text": [
      "[[ 58  64]\n",
      " [139 154]]\n"
     ]
    }
   ],
   "source": [
    "arr1 = np.array([[1, 2, 3],\n",
    "             [4, 5, 6]])\n",
    "arr2 = np.array([[7, 8],\n",
    "             [9, 10],\n",
    "             [11, 12]])\n",
    "\n",
    "dot_product = np.dot(arr1, arr2)\n",
    "print(dot_product)"
   ]
  },
  {
   "cell_type": "code",
   "execution_count": 32,
   "metadata": {},
   "outputs": [
    {
     "name": "stdout",
     "output_type": "stream",
     "text": [
      "[[1 3]\n",
      " [2 4]]\n"
     ]
    }
   ],
   "source": [
    "arr3 = np.array([[1, 2],\n",
    "                [3, 4]])\n",
    "transpose_mat = np.transpose(arr3)\n",
    "print(transpose_mat)"
   ]
  },
  {
   "cell_type": "code",
   "execution_count": null,
   "metadata": {},
   "outputs": [],
   "source": []
  }
 ],
 "metadata": {
  "kernelspec": {
   "display_name": "Python 3",
   "language": "python",
   "name": "python3"
  },
  "language_info": {
   "codemirror_mode": {
    "name": "ipython",
    "version": 3
   },
   "file_extension": ".py",
   "mimetype": "text/x-python",
   "name": "python",
   "nbconvert_exporter": "python",
   "pygments_lexer": "ipython3",
   "version": "3.7.9"
  }
 },
 "nbformat": 4,
 "nbformat_minor": 4
}
