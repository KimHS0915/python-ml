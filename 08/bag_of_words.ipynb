{
 "cells": [
  {
   "cell_type": "code",
   "execution_count": 1,
   "metadata": {},
   "outputs": [],
   "source": [
    "text_sample_01 = 'He was an old man who fished alone in a skiff in the Gulf Stream and he had gone eighty-four days now without taking a fish. In the first forty days a boy had been with him. But after forty days without a fish the boy’s parents had told him that the old man was now definitely and finally salao, which is the worst form of unlucky, and the boy had gone at their orders in another boat which caught three good fish the first week. '\n",
    "text_sample_02 = 'The old man was thin and gaunt with deep wrinkles in the back of his neck. The brown blotches of the benevolent skin cancer the sun brings from its reflection on the tropic sea were on his cheeks. The blotches ran well down the sides of his face and his hands had the deep-creased scars from handling heavy fish on the cords. But none of these scars were fresh. They were as old as erosions in a fishless desert.'\n",
    "text = []\n",
    "text.append(text_sample_01)\n",
    "text.append(text_sample_02)\n",
    "print(text, '\\n', len(text))"
   ]
  },
  {
   "cell_type": "code",
   "execution_count": 2,
   "metadata": {},
   "outputs": [
    {
     "data": {
      "text/plain": [
       "CountVectorizer()"
      ]
     },
     "execution_count": 2,
     "metadata": {},
     "output_type": "execute_result"
    }
   ],
   "source": [
    "from sklearn.feature_extraction.text import CountVectorizer\n",
    "\n",
    "cnt_vect = CountVectorizer()\n",
    "cnt_vect.fit(text)"
   ]
  },
  {
   "cell_type": "code",
   "execution_count": 3,
   "metadata": {},
   "outputs": [],
   "source": [
    "ftr_vect = cnt_vect.transform(text)"
   ]
  },
  {
   "cell_type": "code",
   "execution_count": 4,
   "metadata": {},
   "outputs": [
    {
     "name": "stdout",
     "output_type": "stream",
     "text": [
      "<class 'scipy.sparse.csr.csr_matrix'> (2, 93)\n",
      "  (0, 0)\t1\n",
      "  (0, 1)\t1\n",
      "  (0, 2)\t1\n",
      "  (0, 3)\t3\n",
      "  (0, 4)\t1\n",
      "  (0, 6)\t1\n",
      "  (0, 8)\t1\n",
      "  (0, 11)\t1\n",
      "  (0, 12)\t3\n",
      "  (0, 15)\t1\n",
      "  (0, 17)\t1\n",
      "  (0, 21)\t3\n",
      "  (0, 23)\t1\n",
      "  (0, 26)\t1\n",
      "  (0, 29)\t1\n",
      "  (0, 30)\t2\n",
      "  (0, 31)\t3\n",
      "  (0, 32)\t1\n",
      "  (0, 34)\t1\n",
      "  (0, 35)\t2\n",
      "  (0, 36)\t1\n",
      "  (0, 40)\t2\n",
      "  (0, 41)\t1\n",
      "  (0, 42)\t1\n",
      "  (0, 43)\t4\n",
      "  :\t:\n",
      "  (1, 50)\t2\n",
      "  (1, 52)\t1\n",
      "  (1, 53)\t1\n",
      "  (1, 54)\t1\n",
      "  (1, 55)\t1\n",
      "  (1, 57)\t4\n",
      "  (1, 58)\t2\n",
      "  (1, 59)\t3\n",
      "  (1, 62)\t1\n",
      "  (1, 63)\t1\n",
      "  (1, 65)\t2\n",
      "  (1, 66)\t1\n",
      "  (1, 67)\t1\n",
      "  (1, 69)\t1\n",
      "  (1, 71)\t1\n",
      "  (1, 74)\t10\n",
      "  (1, 76)\t1\n",
      "  (1, 77)\t1\n",
      "  (1, 78)\t1\n",
      "  (1, 81)\t1\n",
      "  (1, 83)\t1\n",
      "  (1, 85)\t1\n",
      "  (1, 86)\t3\n",
      "  (1, 89)\t1\n",
      "  (1, 92)\t1\n"
     ]
    }
   ],
   "source": [
    "print(type(ftr_vect), ftr_vect.shape)\n",
    "print(ftr_vect)"
   ]
  },
  {
   "cell_type": "code",
   "execution_count": 5,
   "metadata": {},
   "outputs": [
    {
     "name": "stdout",
     "output_type": "stream",
     "text": [
      "{'he': 46, 'was': 83, 'an': 2, 'old': 58, 'man': 53, 'who': 88, 'fished': 32, 'alone': 1, 'in': 50, 'skiff': 68, 'the': 74, 'gulf': 42, 'stream': 70, 'and': 3, 'had': 43, 'gone': 40, 'eighty': 26, 'four': 36, 'days': 21, 'now': 56, 'without': 90, 'taking': 72, 'fish': 31, 'first': 30, 'forty': 35, 'boy': 12, 'been': 8, 'with': 89, 'him': 48, 'but': 15, 'after': 0, 'parents': 61, 'told': 80, 'that': 73, 'definitely': 23, 'finally': 29, 'salao': 64, 'which': 87, 'is': 51, 'worst': 91, 'form': 34, 'of': 57, 'unlucky': 82, 'at': 6, 'their': 75, 'orders': 60, 'another': 4, 'boat': 11, 'caught': 17, 'three': 79, 'good': 41, 'week': 84, 'thin': 78, 'gaunt': 39, 'deep': 22, 'wrinkles': 92, 'back': 7, 'his': 49, 'neck': 54, 'brown': 14, 'blotches': 10, 'benevolent': 9, 'skin': 69, 'cancer': 16, 'sun': 71, 'brings': 13, 'from': 38, 'its': 52, 'reflection': 63, 'on': 59, 'tropic': 81, 'sea': 66, 'were': 86, 'cheeks': 18, 'ran': 62, 'well': 85, 'down': 25, 'sides': 67, 'face': 28, 'hands': 45, 'creased': 20, 'scars': 65, 'handling': 44, 'heavy': 47, 'cords': 19, 'none': 55, 'these': 76, 'fresh': 37, 'they': 77, 'as': 5, 'erosions': 27, 'fishless': 33, 'desert': 24}\n"
     ]
    }
   ],
   "source": [
    "print(cnt_vect.vocabulary_)"
   ]
  },
  {
   "cell_type": "code",
   "execution_count": 6,
   "metadata": {},
   "outputs": [
    {
     "name": "stdout",
     "output_type": "stream",
     "text": [
      "<class 'scipy.sparse.csr.csr_matrix'> (2, 5)\n",
      "{'in': 2, 'the': 4, 'and': 0, 'had': 1, 'of': 3}\n"
     ]
    }
   ],
   "source": [
    "cnt_vect = CountVectorizer(max_features=5)\n",
    "cnt_vect.fit(text)\n",
    "ftr_vect = cnt_vect.transform(text)\n",
    "print(type(ftr_vect), ftr_vect.shape)\n",
    "print(cnt_vect.vocabulary_)"
   ]
  },
  {
   "cell_type": "code",
   "execution_count": 7,
   "metadata": {},
   "outputs": [
    {
     "name": "stdout",
     "output_type": "stream",
     "text": [
      "<class 'scipy.sparse.csr.csr_matrix'> (2, 5)\n",
      "{'old': 4, 'man': 3, 'days': 1, 'fish': 2, 'boy': 0}\n"
     ]
    }
   ],
   "source": [
    "cnt_vect = CountVectorizer(max_features=5, stop_words='english')\n",
    "cnt_vect.fit(text)\n",
    "ftr_vect = cnt_vect.transform(text)\n",
    "print(type(ftr_vect), ftr_vect.shape)\n",
    "print(cnt_vect.vocabulary_)"
   ]
  },
  {
   "cell_type": "code",
   "execution_count": 8,
   "metadata": {},
   "outputs": [
    {
     "name": "stdout",
     "output_type": "stream",
     "text": [
      "<class 'scipy.sparse.csr.csr_matrix'> (2, 239)\n",
      "{'he': 110, 'was': 213, 'an': 4, 'old': 147, 'man': 132, 'who': 227, 'fished': 77, 'alone': 2, 'in': 123, 'skiff': 170, 'the': 182, 'gulf': 99, 'stream': 174, 'and': 6, 'had': 101, 'gone': 94, 'eighty': 62, 'four': 85, 'days': 50, 'now': 139, 'without': 232, 'taking': 178, 'fish': 73, 'first': 70, 'forty': 83, 'boy': 30, 'been': 21, 'with': 229, 'him': 115, 'but': 37, 'after': 0, 'parents': 155, 'told': 207, 'that': 180, 'definitely': 57, 'finally': 68, 'salao': 161, 'which': 224, 'is': 128, 'worst': 235, 'form': 81, 'of': 142, 'unlucky': 211, 'at': 17, 'their': 197, 'orders': 153, 'another': 12, 'boat': 28, 'caught': 42, 'three': 205, 'good': 97, 'week': 217, 'he was': 112, 'was an': 214, 'an old': 5, 'old man': 149, 'man who': 134, 'who fished': 228, 'fished alone': 78, 'alone in': 3, 'in skiff': 126, 'skiff in': 171, 'in the': 127, 'the gulf': 191, 'gulf stream': 100, 'stream and': 175, 'and he': 9, 'he had': 111, 'had gone': 103, 'gone eighty': 96, 'eighty four': 63, 'four days': 86, 'days now': 52, 'now without': 141, 'without taking': 234, 'taking fish': 179, 'fish in': 74, 'the first': 190, 'first forty': 71, 'forty days': 84, 'days boy': 51, 'boy had': 31, 'had been': 102, 'been with': 22, 'with him': 231, 'him but': 116, 'but after': 38, 'after forty': 1, 'days without': 53, 'without fish': 233, 'fish the': 76, 'the boy': 186, 'boy parents': 32, 'parents had': 156, 'had told': 105, 'told him': 208, 'him that': 117, 'that the': 181, 'the old': 192, 'man was': 133, 'was now': 215, 'now definitely': 140, 'definitely and': 58, 'and finally': 7, 'finally salao': 69, 'salao which': 162, 'which is': 226, 'is the': 129, 'the worst': 196, 'worst form': 236, 'form of': 82, 'of unlucky': 146, 'unlucky and': 212, 'and the': 11, 'gone at': 95, 'at their': 18, 'their orders': 198, 'orders in': 154, 'in another': 124, 'another boat': 13, 'boat which': 29, 'which caught': 225, 'caught three': 43, 'three good': 206, 'good fish': 98, 'first week': 72, 'thin': 203, 'gaunt': 92, 'deep': 54, 'wrinkles': 237, 'back': 19, 'his': 118, 'neck': 135, 'brown': 35, 'blotches': 25, 'benevolent': 23, 'skin': 172, 'cancer': 40, 'sun': 176, 'brings': 33, 'from': 89, 'its': 130, 'reflection': 159, 'on': 150, 'tropic': 209, 'sea': 166, 'were': 220, 'cheeks': 44, 'ran': 157, 'well': 218, 'down': 60, 'sides': 168, 'face': 66, 'hands': 108, 'creased': 48, 'scars': 163, 'handling': 106, 'heavy': 113, 'cords': 46, 'none': 137, 'these': 199, 'fresh': 87, 'they': 201, 'as': 14, 'erosions': 64, 'fishless': 79, 'desert': 59, 'was thin': 216, 'thin and': 204, 'and gaunt': 8, 'gaunt with': 93, 'with deep': 230, 'deep wrinkles': 56, 'wrinkles in': 238, 'the back': 183, 'back of': 20, 'of his': 143, 'his neck': 122, 'neck the': 136, 'the brown': 187, 'brown blotches': 36, 'blotches of': 26, 'of the': 144, 'the benevolent': 184, 'benevolent skin': 24, 'skin cancer': 173, 'cancer the': 41, 'the sun': 194, 'sun brings': 177, 'brings from': 34, 'from its': 91, 'its reflection': 131, 'reflection on': 160, 'on the': 152, 'the tropic': 195, 'tropic sea': 210, 'sea were': 167, 'were on': 223, 'on his': 151, 'his cheeks': 119, 'cheeks the': 45, 'the blotches': 185, 'blotches ran': 27, 'ran well': 158, 'well down': 219, 'down the': 61, 'the sides': 193, 'sides of': 169, 'his face': 120, 'face and': 67, 'and his': 10, 'his hands': 121, 'hands had': 109, 'had the': 104, 'the deep': 189, 'deep creased': 55, 'creased scars': 49, 'scars from': 164, 'from handling': 90, 'handling heavy': 107, 'heavy fish': 114, 'fish on': 75, 'the cords': 188, 'cords but': 47, 'but none': 39, 'none of': 138, 'of these': 145, 'these scars': 200, 'scars were': 165, 'were fresh': 222, 'fresh they': 88, 'they were': 202, 'were as': 221, 'as old': 16, 'old as': 148, 'as erosions': 15, 'erosions in': 65, 'in fishless': 125, 'fishless desert': 80}\n"
     ]
    }
   ],
   "source": [
    "cnt_vect = CountVectorizer(ngram_range=(1, 2))\n",
    "cnt_vect.fit(text)\n",
    "ftr_vect = cnt_vect.transform(text)\n",
    "print(type(ftr_vect), ftr_vect.shape)\n",
    "print(cnt_vect.vocabulary_)"
   ]
  },
  {
   "cell_type": "code",
   "execution_count": 9,
   "metadata": {},
   "outputs": [
    {
     "name": "stdout",
     "output_type": "stream",
     "text": [
      "<class 'scipy.sparse.csr.csr_matrix'> (2, 395)\n",
      "{'he': 176, 'was': 353, 'an': 6, 'old': 242, 'man': 215, 'who': 376, 'fished': 123, 'alone': 3, 'in': 198, 'skiff': 280, 'the': 298, 'gulf': 157, 'stream': 286, 'and': 9, 'had': 160, 'gone': 149, 'eighty': 99, 'four': 135, 'days': 80, 'now': 227, 'without': 384, 'taking': 292, 'fish': 115, 'first': 111, 'forty': 131, 'boy': 48, 'been': 34, 'with': 379, 'him': 184, 'but': 60, 'after': 0, 'parents': 257, 'told': 344, 'that': 295, 'definitely': 92, 'finally': 108, 'salao': 266, 'which': 371, 'is': 209, 'worst': 389, 'form': 128, 'of': 232, 'unlucky': 350, 'at': 28, 'their': 329, 'orders': 254, 'another': 20, 'boat': 45, 'caught': 68, 'three': 341, 'good': 154, 'week': 360, 'he was': 179, 'was an': 354, 'an old': 7, 'old man': 245, 'man who': 219, 'who fished': 377, 'fished alone': 124, 'alone in': 4, 'in skiff': 203, 'skiff in': 281, 'in the': 205, 'the gulf': 317, 'gulf stream': 158, 'stream and': 287, 'and he': 14, 'he had': 177, 'had gone': 163, 'gone eighty': 152, 'eighty four': 100, 'four days': 136, 'days now': 83, 'now without': 230, 'without taking': 387, 'taking fish': 293, 'fish in': 116, 'the first': 314, 'first forty': 112, 'forty days': 132, 'days boy': 81, 'boy had': 49, 'had been': 161, 'been with': 35, 'with him': 382, 'him but': 185, 'but after': 61, 'after forty': 1, 'days without': 85, 'without fish': 385, 'fish the': 120, 'the boy': 305, 'boy parents': 52, 'parents had': 258, 'had told': 168, 'told him': 345, 'him that': 187, 'that the': 296, 'the old': 319, 'man was': 216, 'was now': 356, 'now definitely': 228, 'definitely and': 93, 'and finally': 10, 'finally salao': 109, 'salao which': 267, 'which is': 374, 'is the': 210, 'the worst': 327, 'worst form': 390, 'form of': 129, 'of unlucky': 240, 'unlucky and': 351, 'and the': 18, 'gone at': 150, 'at their': 29, 'their orders': 330, 'orders in': 255, 'in another': 199, 'another boat': 21, 'boat which': 46, 'which caught': 372, 'caught three': 69, 'three good': 342, 'good fish': 155, 'first week': 114, 'he was an': 180, 'was an old': 355, 'an old man': 8, 'old man who': 247, 'man who fished': 220, 'who fished alone': 378, 'fished alone in': 125, 'alone in skiff': 5, 'in skiff in': 204, 'skiff in the': 282, 'in the gulf': 208, 'the gulf stream': 318, 'gulf stream and': 159, 'stream and he': 288, 'and he had': 15, 'he had gone': 178, 'had gone eighty': 165, 'gone eighty four': 153, 'eighty four days': 101, 'four days now': 137, 'days now without': 84, 'now without taking': 231, 'without taking fish': 388, 'taking fish in': 294, 'fish in the': 117, 'in the first': 207, 'the first forty': 315, 'first forty days': 113, 'forty days boy': 133, 'days boy had': 82, 'boy had been': 50, 'had been with': 162, 'been with him': 36, 'with him but': 383, 'him but after': 186, 'but after forty': 62, 'after forty days': 2, 'forty days without': 134, 'days without fish': 86, 'without fish the': 386, 'fish the boy': 121, 'the boy parents': 307, 'boy parents had': 53, 'parents had told': 259, 'had told him': 169, 'told him that': 346, 'him that the': 188, 'that the old': 297, 'the old man': 320, 'old man was': 246, 'man was now': 217, 'was now definitely': 357, 'now definitely and': 229, 'definitely and finally': 94, 'and finally salao': 11, 'finally salao which': 110, 'salao which is': 268, 'which is the': 375, 'is the worst': 211, 'the worst form': 328, 'worst form of': 391, 'form of unlucky': 130, 'of unlucky and': 241, 'unlucky and the': 352, 'and the boy': 19, 'the boy had': 306, 'boy had gone': 51, 'had gone at': 164, 'gone at their': 151, 'at their orders': 30, 'their orders in': 331, 'orders in another': 256, 'in another boat': 200, 'another boat which': 22, 'boat which caught': 47, 'which caught three': 373, 'caught three good': 70, 'three good fish': 343, 'good fish the': 156, 'fish the first': 122, 'the first week': 316, 'thin': 338, 'gaunt': 146, 'deep': 87, 'wrinkles': 392, 'back': 31, 'his': 189, 'neck': 221, 'brown': 57, 'blotches': 40, 'benevolent': 37, 'skin': 283, 'cancer': 65, 'sun': 289, 'brings': 54, 'from': 141, 'its': 212, 'reflection': 263, 'on': 248, 'tropic': 347, 'sea': 274, 'were': 364, 'cheeks': 71, 'ran': 260, 'well': 361, 'down': 96, 'sides': 277, 'face': 105, 'hands': 173, 'creased': 77, 'scars': 269, 'handling': 170, 'heavy': 181, 'cords': 74, 'none': 224, 'these': 332, 'fresh': 138, 'they': 335, 'as': 23, 'erosions': 102, 'fishless': 126, 'desert': 95, 'was thin': 358, 'thin and': 339, 'and gaunt': 12, 'gaunt with': 147, 'with deep': 380, 'deep wrinkles': 90, 'wrinkles in': 393, 'the back': 299, 'back of': 32, 'of his': 233, 'his neck': 196, 'neck the': 222, 'the brown': 308, 'brown blotches': 58, 'blotches of': 41, 'of the': 236, 'the benevolent': 301, 'benevolent skin': 38, 'skin cancer': 284, 'cancer the': 66, 'the sun': 323, 'sun brings': 290, 'brings from': 55, 'from its': 144, 'its reflection': 213, 'reflection on': 264, 'on the': 251, 'the tropic': 325, 'tropic sea': 348, 'sea were': 275, 'were on': 369, 'on his': 249, 'his cheeks': 190, 'cheeks the': 72, 'the blotches': 303, 'blotches ran': 43, 'ran well': 261, 'well down': 362, 'down the': 97, 'the sides': 321, 'sides of': 278, 'his face': 192, 'face and': 106, 'and his': 16, 'his hands': 194, 'hands had': 174, 'had the': 166, 'the deep': 312, 'deep creased': 88, 'creased scars': 78, 'scars from': 270, 'from handling': 142, 'handling heavy': 171, 'heavy fish': 182, 'fish on': 118, 'the cords': 310, 'cords but': 75, 'but none': 63, 'none of': 225, 'of these': 238, 'these scars': 333, 'scars were': 272, 'were fresh': 367, 'fresh they': 139, 'they were': 336, 'were as': 365, 'as old': 26, 'old as': 243, 'as erosions': 24, 'erosions in': 103, 'in fishless': 201, 'fishless desert': 127, 'man was thin': 218, 'was thin and': 359, 'thin and gaunt': 340, 'and gaunt with': 13, 'gaunt with deep': 148, 'with deep wrinkles': 381, 'deep wrinkles in': 91, 'wrinkles in the': 394, 'in the back': 206, 'the back of': 300, 'back of his': 33, 'of his neck': 235, 'his neck the': 197, 'neck the brown': 223, 'the brown blotches': 309, 'brown blotches of': 59, 'blotches of the': 42, 'of the benevolent': 237, 'the benevolent skin': 302, 'benevolent skin cancer': 39, 'skin cancer the': 285, 'cancer the sun': 67, 'the sun brings': 324, 'sun brings from': 291, 'brings from its': 56, 'from its reflection': 145, 'its reflection on': 214, 'reflection on the': 265, 'on the tropic': 253, 'the tropic sea': 326, 'tropic sea were': 349, 'sea were on': 276, 'were on his': 370, 'on his cheeks': 250, 'his cheeks the': 191, 'cheeks the blotches': 73, 'the blotches ran': 304, 'blotches ran well': 44, 'ran well down': 262, 'well down the': 363, 'down the sides': 98, 'the sides of': 322, 'sides of his': 279, 'of his face': 234, 'his face and': 193, 'face and his': 107, 'and his hands': 17, 'his hands had': 195, 'hands had the': 175, 'had the deep': 167, 'the deep creased': 313, 'deep creased scars': 89, 'creased scars from': 79, 'scars from handling': 271, 'from handling heavy': 143, 'handling heavy fish': 172, 'heavy fish on': 183, 'fish on the': 119, 'on the cords': 252, 'the cords but': 311, 'cords but none': 76, 'but none of': 64, 'none of these': 226, 'of these scars': 239, 'these scars were': 334, 'scars were fresh': 273, 'were fresh they': 368, 'fresh they were': 140, 'they were as': 337, 'were as old': 366, 'as old as': 27, 'old as erosions': 244, 'as erosions in': 25, 'erosions in fishless': 104, 'in fishless desert': 202}\n"
     ]
    }
   ],
   "source": [
    "cnt_vect = CountVectorizer(ngram_range=(1, 3))\n",
    "cnt_vect.fit(text)\n",
    "ftr_vect = cnt_vect.transform(text)\n",
    "print(type(ftr_vect), ftr_vect.shape)\n",
    "print(cnt_vect.vocabulary_)"
   ]
  },
  {
   "cell_type": "code",
   "execution_count": 10,
   "metadata": {},
   "outputs": [
    {
     "name": "stdout",
     "output_type": "stream",
     "text": [
      "<class 'scipy.sparse.csr.csr_matrix'> (2, 146)\n",
      "{'he was': 65, 'was an': 130, 'an old': 2, 'old man': 90, 'man who': 80, 'who fished': 139, 'fished alone': 45, 'alone in': 1, 'in skiff': 75, 'skiff in': 102, 'in the': 76, 'the gulf': 116, 'gulf stream': 57, 'stream and': 104, 'and he': 5, 'he had': 64, 'had gone': 59, 'gone eighty': 55, 'eighty four': 36, 'four days': 49, 'days now': 30, 'now without': 84, 'without taking': 143, 'taking fish': 106, 'fish in': 42, 'the first': 115, 'first forty': 40, 'forty days': 48, 'days boy': 29, 'boy had': 18, 'had been': 58, 'been with': 13, 'with him': 141, 'him but': 67, 'but after': 22, 'after forty': 0, 'days without': 31, 'without fish': 142, 'fish the': 44, 'the boy': 111, 'boy parents': 19, 'parents had': 94, 'had told': 61, 'told him': 127, 'him that': 68, 'that the': 107, 'the old': 117, 'man was': 79, 'was now': 131, 'now definitely': 83, 'definitely and': 34, 'and finally': 3, 'finally salao': 39, 'salao which': 97, 'which is': 138, 'is the': 77, 'the worst': 121, 'worst form': 144, 'form of': 47, 'of unlucky': 88, 'unlucky and': 129, 'and the': 7, 'gone at': 54, 'at their': 11, 'their orders': 122, 'orders in': 93, 'in another': 73, 'another boat': 8, 'boat which': 17, 'which caught': 137, 'caught three': 25, 'three good': 126, 'good fish': 56, 'first week': 41, 'was thin': 132, 'thin and': 125, 'and gaunt': 4, 'gaunt with': 53, 'with deep': 140, 'deep wrinkles': 33, 'wrinkles in': 145, 'the back': 108, 'back of': 12, 'of his': 85, 'his neck': 72, 'neck the': 81, 'the brown': 112, 'brown blotches': 21, 'blotches of': 15, 'of the': 86, 'the benevolent': 109, 'benevolent skin': 14, 'skin cancer': 103, 'cancer the': 24, 'the sun': 119, 'sun brings': 105, 'brings from': 20, 'from its': 52, 'its reflection': 78, 'reflection on': 96, 'on the': 92, 'the tropic': 120, 'tropic sea': 128, 'sea were': 100, 'were on': 136, 'on his': 91, 'his cheeks': 69, 'cheeks the': 26, 'the blotches': 110, 'blotches ran': 16, 'ran well': 95, 'well down': 133, 'down the': 35, 'the sides': 118, 'sides of': 101, 'his face': 70, 'face and': 38, 'and his': 6, 'his hands': 71, 'hands had': 63, 'had the': 60, 'the deep': 114, 'deep creased': 32, 'creased scars': 28, 'scars from': 98, 'from handling': 51, 'handling heavy': 62, 'heavy fish': 66, 'fish on': 43, 'the cords': 113, 'cords but': 27, 'but none': 23, 'none of': 82, 'of these': 87, 'these scars': 123, 'scars were': 99, 'were fresh': 135, 'fresh they': 50, 'they were': 124, 'were as': 134, 'as old': 10, 'old as': 89, 'as erosions': 9, 'erosions in': 37, 'in fishless': 74, 'fishless desert': 46}\n"
     ]
    }
   ],
   "source": [
    "cnt_vect = CountVectorizer(ngram_range=(2, 2))\n",
    "cnt_vect.fit(text)\n",
    "ftr_vect = cnt_vect.transform(text)\n",
    "print(type(ftr_vect), ftr_vect.shape)\n",
    "print(cnt_vect.vocabulary_)"
   ]
  },
  {
   "cell_type": "code",
   "execution_count": 11,
   "metadata": {},
   "outputs": [],
   "source": [
    "import numpy as np\n",
    "\n",
    "dense = np.array([[3, 0, 1], [0, 2, 0]])"
   ]
  },
  {
   "cell_type": "code",
   "execution_count": 12,
   "metadata": {},
   "outputs": [],
   "source": [
    "from scipy import sparse\n",
    "\n",
    "data = np.array([3, 1, 2])\n",
    "\n",
    "row_pos = np.array([0, 0, 1])\n",
    "col_pos = np.array([0, 2, 1])\n",
    "\n",
    "sparse_coo = sparse.coo_matrix((data, (row_pos, col_pos)))"
   ]
  },
  {
   "cell_type": "code",
   "execution_count": 13,
   "metadata": {},
   "outputs": [
    {
     "name": "stdout",
     "output_type": "stream",
     "text": [
      "<class 'scipy.sparse.coo.coo_matrix'>\n",
      "  (0, 0)\t3\n",
      "  (0, 2)\t1\n",
      "  (1, 1)\t2\n",
      "<class 'numpy.ndarray'> \n",
      " [[3 0 1]\n",
      " [0 2 0]]\n"
     ]
    }
   ],
   "source": [
    "print(type(sparse_coo))\n",
    "print(sparse_coo)\n",
    "dense01 = sparse_coo.toarray()\n",
    "print(type(dense01), '\\n', dense01)"
   ]
  },
  {
   "cell_type": "code",
   "execution_count": 14,
   "metadata": {},
   "outputs": [
    {
     "name": "stdout",
     "output_type": "stream",
     "text": [
      "[[0 0 1 0 0 5]\n",
      " [1 4 0 3 2 5]\n",
      " [0 6 0 3 0 0]\n",
      " [2 0 0 0 0 0]\n",
      " [0 0 0 7 0 8]\n",
      " [1 0 0 0 0 0]]\n",
      "[[0 0 1 0 0 5]\n",
      " [1 4 0 3 2 5]\n",
      " [0 6 0 3 0 0]\n",
      " [2 0 0 0 0 0]\n",
      " [0 0 0 7 0 8]\n",
      " [1 0 0 0 0 0]]\n"
     ]
    }
   ],
   "source": [
    "dense2 = np.array([\n",
    "    [0, 0, 1, 0, 0, 5],\n",
    "    [1, 4, 0, 3, 2, 5],\n",
    "    [2, 0, 0, 0, 0, 0],\n",
    "    [0, 0, 0, 7, 0, 0],\n",
    "    [1, 0, 0, 0, 0, 0],\n",
    "])\n",
    "\n",
    "data2 = np.array([1, 5, 1, 4, 3, 2, 5, 6, 3, 2, 7, 8, 1])\n",
    "\n",
    "row_pos = np.array([0, 0, 1, 1, 1, 1, 1, 2, 2, 3, 4, 4, 5])\n",
    "col_pos = np.array([2, 5, 0, 1, 3, 4, 5, 1, 3, 0, 3, 5, 0])\n",
    "\n",
    "sparse_coo = sparse.coo_matrix((data2, (row_pos, col_pos)))\n",
    "\n",
    "row_pos_ind = np.array([0, 2, 7, 9, 10, 12, 13])\n",
    "\n",
    "sparse_csr = sparse.csr_matrix((data2, col_pos, row_pos_ind))\n",
    "\n",
    "print(sparse_coo.toarray())\n",
    "print(sparse_csr.toarray())"
   ]
  },
  {
   "cell_type": "code",
   "execution_count": 15,
   "metadata": {},
   "outputs": [
    {
     "name": "stdout",
     "output_type": "stream",
     "text": [
      "[[0 0 1 0 0 5]\n",
      " [1 4 0 3 2 5]\n",
      " [2 0 0 0 0 0]\n",
      " [0 0 0 7 0 0]\n",
      " [1 0 0 0 0 0]]\n",
      "[[0 0 1 0 0 5]\n",
      " [1 4 0 3 2 5]\n",
      " [2 0 0 0 0 0]\n",
      " [0 0 0 7 0 0]\n",
      " [1 0 0 0 0 0]]\n"
     ]
    }
   ],
   "source": [
    "coo = sparse.coo_matrix(dense2)\n",
    "csr = sparse.csr_matrix(dense2)\n",
    "\n",
    "print(coo.toarray())\n",
    "print(csr.toarray())"
   ]
  },
  {
   "cell_type": "code",
   "execution_count": null,
   "metadata": {},
   "outputs": [],
   "source": []
  }
 ],
 "metadata": {
  "kernelspec": {
   "display_name": "Python 3",
   "language": "python",
   "name": "python3"
  },
  "language_info": {
   "codemirror_mode": {
    "name": "ipython",
    "version": 3
   },
   "file_extension": ".py",
   "mimetype": "text/x-python",
   "name": "python",
   "nbconvert_exporter": "python",
   "pygments_lexer": "ipython3",
   "version": "3.7.0"
  }
 },
 "nbformat": 4,
 "nbformat_minor": 4
}
