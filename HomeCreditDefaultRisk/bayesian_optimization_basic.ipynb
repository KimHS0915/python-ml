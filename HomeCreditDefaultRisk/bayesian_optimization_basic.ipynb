{
 "cells": [
  {
   "cell_type": "code",
   "execution_count": 1,
   "metadata": {},
   "outputs": [],
   "source": [
    "# https://github.com/fmfn/BayesianOptimization \n",
    "# conda install -c conda-forge bayesian-optimization"
   ]
  },
  {
   "cell_type": "code",
   "execution_count": 2,
   "metadata": {},
   "outputs": [],
   "source": [
    "def black_box_function(x, y):\n",
    "    \n",
    "    return -x ** 2 - (y - 1) ** 2 + 1"
   ]
  },
  {
   "cell_type": "code",
   "execution_count": 3,
   "metadata": {},
   "outputs": [],
   "source": [
    "pbounds = {\n",
    "    'x': (2, 4),\n",
    "    'y': (-3, 3)\n",
    "}"
   ]
  },
  {
   "cell_type": "code",
   "execution_count": 4,
   "metadata": {},
   "outputs": [
    {
     "name": "stdout",
     "output_type": "stream",
     "text": [
      "|   iter    |  target   |     x     |     y     |\n",
      "-------------------------------------------------\n",
      "| \u001b[0m 1       \u001b[0m | \u001b[0m-7.135   \u001b[0m | \u001b[0m 2.834   \u001b[0m | \u001b[0m 1.322   \u001b[0m |\n",
      "| \u001b[0m 2       \u001b[0m | \u001b[0m-7.78    \u001b[0m | \u001b[0m 2.0     \u001b[0m | \u001b[0m-1.186   \u001b[0m |\n",
      "| \u001b[95m 3       \u001b[0m | \u001b[95m-7.11    \u001b[0m | \u001b[95m 2.218   \u001b[0m | \u001b[95m-0.7867  \u001b[0m |\n",
      "| \u001b[0m 4       \u001b[0m | \u001b[0m-12.4    \u001b[0m | \u001b[0m 3.66    \u001b[0m | \u001b[0m 0.9608  \u001b[0m |\n",
      "| \u001b[95m 5       \u001b[0m | \u001b[95m-6.999   \u001b[0m | \u001b[95m 2.23    \u001b[0m | \u001b[95m-0.7392  \u001b[0m |\n",
      "| \u001b[95m 6       \u001b[0m | \u001b[95m-3.047   \u001b[0m | \u001b[95m 2.0     \u001b[0m | \u001b[95m 0.783   \u001b[0m |\n",
      "| \u001b[0m 7       \u001b[0m | \u001b[0m-4.166   \u001b[0m | \u001b[0m 2.0     \u001b[0m | \u001b[0m 2.08    \u001b[0m |\n",
      "=================================================\n"
     ]
    }
   ],
   "source": [
    "from bayes_opt import BayesianOptimization\n",
    "\n",
    "optimizer = BayesianOptimization(\n",
    "    f=black_box_function, \n",
    "    pbounds=pbounds, \n",
    "    random_state=1\n",
    ")\n",
    "\n",
    "optimizer.maximize(\n",
    "    init_points=2, \n",
    "    n_iter=5\n",
    ")"
   ]
  },
  {
   "cell_type": "code",
   "execution_count": 5,
   "metadata": {},
   "outputs": [
    {
     "name": "stdout",
     "output_type": "stream",
     "text": [
      "iteration count: 1260, max_result: -3.0, x_value: 2.0, y_value: 1.0000000000000036\n"
     ]
    }
   ],
   "source": [
    "import numpy as np\n",
    "\n",
    "result = -9999\n",
    "x_val = -9999\n",
    "y_val = -9999\n",
    "iter_count = 0\n",
    "\n",
    "for x in np.arange(2, 4.1, 0.1):\n",
    "    for y in np.arange(-3, 3, 0.1):\n",
    "        current_result = black_box_function(x, y)\n",
    "        iter_count += 1\n",
    "        if current_result > result:\n",
    "            result = current_result\n",
    "            x_val = x\n",
    "            y_val = y\n",
    "\n",
    "print(f'iteration count: {iter_count}, max_result: {result}, x_value: {x_val}, y_value: {y_val}')"
   ]
  },
  {
   "cell_type": "code",
   "execution_count": 6,
   "metadata": {},
   "outputs": [
    {
     "name": "stdout",
     "output_type": "stream",
     "text": [
      "|   iter    |  target   |     x     |     y     |\n",
      "-------------------------------------------------\n",
      "| \u001b[0m 1       \u001b[0m | \u001b[0m-708.4   \u001b[0m | \u001b[0m 17.85   \u001b[0m | \u001b[0m 20.77   \u001b[0m |\n",
      "| \u001b[95m 2       \u001b[0m | \u001b[95m-38.74   \u001b[0m | \u001b[95m 2.004   \u001b[0m | \u001b[95m 6.977   \u001b[0m |\n",
      "| \u001b[0m 3       \u001b[0m | \u001b[0m-52.3    \u001b[0m | \u001b[0m 3.172   \u001b[0m | \u001b[0m 7.576   \u001b[0m |\n",
      "| \u001b[0m 4       \u001b[0m | \u001b[0m-117.8   \u001b[0m | \u001b[0m 10.14   \u001b[0m | \u001b[0m-2.995   \u001b[0m |\n",
      "| \u001b[0m 5       \u001b[0m | \u001b[0m-1.615e+0\u001b[0m | \u001b[0m 40.0    \u001b[0m | \u001b[0m-3.0     \u001b[0m |\n",
      "| \u001b[0m 6       \u001b[0m | \u001b[0m-844.0   \u001b[0m | \u001b[0m 2.0     \u001b[0m | \u001b[0m 30.0    \u001b[0m |\n",
      "| \u001b[95m 7       \u001b[0m | \u001b[95m-19.0    \u001b[0m | \u001b[95m 2.0     \u001b[0m | \u001b[95m-3.0     \u001b[0m |\n",
      "| \u001b[0m 8       \u001b[0m | \u001b[0m-20.06   \u001b[0m | \u001b[0m 4.503   \u001b[0m | \u001b[0m 1.882   \u001b[0m |\n",
      "| \u001b[95m 9       \u001b[0m | \u001b[95m-3.092   \u001b[0m | \u001b[95m 2.0     \u001b[0m | \u001b[95m 1.304   \u001b[0m |\n",
      "| \u001b[0m 10      \u001b[0m | \u001b[0m-8.189   \u001b[0m | \u001b[0m 2.026   \u001b[0m | \u001b[0m 3.255   \u001b[0m |\n",
      "| \u001b[0m 11      \u001b[0m | \u001b[0m-6.085   \u001b[0m | \u001b[0m 2.545   \u001b[0m | \u001b[0m 0.2206  \u001b[0m |\n",
      "| \u001b[0m 12      \u001b[0m | \u001b[0m-4.368   \u001b[0m | \u001b[0m 2.081   \u001b[0m | \u001b[0m-0.01814 \u001b[0m |\n",
      "=================================================\n"
     ]
    }
   ],
   "source": [
    "pbounds = {\n",
    "    'x': (2, 40),\n",
    "    'y': (-3, 30)\n",
    "}\n",
    "\n",
    "optimizer = BayesianOptimization(\n",
    "    f=black_box_function, \n",
    "    pbounds=pbounds, \n",
    "    random_state=1\n",
    ")\n",
    "\n",
    "optimizer.maximize(\n",
    "    init_points=2, \n",
    "    n_iter=10\n",
    ")"
   ]
  },
  {
   "cell_type": "code",
   "execution_count": 7,
   "metadata": {},
   "outputs": [
    {
     "name": "stdout",
     "output_type": "stream",
     "text": [
      "iteration count: 125730, max_result: -3.0, x_value: 2.0, y_value: 1.0000000000000036\n"
     ]
    }
   ],
   "source": [
    "result = -9999\n",
    "x_val = -9999\n",
    "y_val = -9999\n",
    "iter_count = 0\n",
    "\n",
    "for x in np.arange(2, 40.1, 0.1):\n",
    "    for y in np.arange(-3, 30, 0.1):\n",
    "        current_result = black_box_function(x, y)\n",
    "        iter_count += 1\n",
    "        if current_result > result:\n",
    "            result = current_result\n",
    "            x_val = x\n",
    "            y_val = y\n",
    "\n",
    "print(f'iteration count: {iter_count}, max_result: {result}, x_value: {x_val}, y_value: {y_val}')"
   ]
  },
  {
   "cell_type": "code",
   "execution_count": null,
   "metadata": {},
   "outputs": [],
   "source": []
  }
 ],
 "metadata": {
  "kernelspec": {
   "display_name": "Python 3",
   "language": "python",
   "name": "python3"
  },
  "language_info": {
   "codemirror_mode": {
    "name": "ipython",
    "version": 3
   },
   "file_extension": ".py",
   "mimetype": "text/x-python",
   "name": "python",
   "nbconvert_exporter": "python",
   "pygments_lexer": "ipython3",
   "version": "3.7.0"
  }
 },
 "nbformat": 4,
 "nbformat_minor": 4
}
