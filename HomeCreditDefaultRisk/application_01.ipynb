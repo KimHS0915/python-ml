{
 "cells": [
  {
   "cell_type": "code",
   "execution_count": 1,
   "metadata": {},
   "outputs": [],
   "source": [
    "import pandas as pd\n",
    "\n",
    "pd.set_option('display.max_rows', 100)\n",
    "pd.set_option('display.max_columns', 200)\n",
    "\n",
    "app_train = pd.read_csv('../data/home-credit-default-risk/application_train.csv')\n",
    "app_test = pd.read_csv('../data/home-credit-default-risk/application_test.csv')"
   ]
  },
  {
   "cell_type": "code",
   "execution_count": 2,
   "metadata": {},
   "outputs": [
    {
     "data": {
      "text/plain": [
       "((307511, 122), (48744, 121))"
      ]
     },
     "execution_count": 2,
     "metadata": {},
     "output_type": "execute_result"
    }
   ],
   "source": [
    "app_train.shape, app_test.shape"
   ]
  },
  {
   "cell_type": "code",
   "execution_count": 3,
   "metadata": {},
   "outputs": [
    {
     "data": {
      "text/plain": [
       "(356255, 122)"
      ]
     },
     "execution_count": 3,
     "metadata": {},
     "output_type": "execute_result"
    }
   ],
   "source": [
    "apps = pd.concat([app_train, app_test])\n",
    "apps.shape"
   ]
  },
  {
   "cell_type": "code",
   "execution_count": 4,
   "metadata": {},
   "outputs": [
    {
     "data": {
      "text/plain": [
       "0.0    282686\n",
       "NaN     48744\n",
       "1.0     24825\n",
       "Name: TARGET, dtype: int64"
      ]
     },
     "execution_count": 4,
     "metadata": {},
     "output_type": "execute_result"
    }
   ],
   "source": [
    "apps['TARGET'].value_counts(dropna=False)"
   ]
  },
  {
   "cell_type": "code",
   "execution_count": 5,
   "metadata": {},
   "outputs": [
    {
     "name": "stdout",
     "output_type": "stream",
     "text": [
      "<class 'pandas.core.frame.DataFrame'>\n",
      "Int64Index: 356255 entries, 0 to 48743\n",
      "Columns: 122 entries, SK_ID_CURR to AMT_REQ_CREDIT_BUREAU_YEAR\n",
      "dtypes: float64(66), int64(40), object(16)\n",
      "memory usage: 334.3+ MB\n"
     ]
    }
   ],
   "source": [
    "apps.info()"
   ]
  },
  {
   "cell_type": "code",
   "execution_count": 6,
   "metadata": {},
   "outputs": [
    {
     "data": {
      "text/plain": [
       "SK_ID_CURR                      int64\n",
       "TARGET                        float64\n",
       "NAME_CONTRACT_TYPE             object\n",
       "CODE_GENDER                    object\n",
       "FLAG_OWN_CAR                   object\n",
       "                               ...   \n",
       "AMT_REQ_CREDIT_BUREAU_DAY     float64\n",
       "AMT_REQ_CREDIT_BUREAU_WEEK    float64\n",
       "AMT_REQ_CREDIT_BUREAU_MON     float64\n",
       "AMT_REQ_CREDIT_BUREAU_QRT     float64\n",
       "AMT_REQ_CREDIT_BUREAU_YEAR    float64\n",
       "Length: 122, dtype: object"
      ]
     },
     "execution_count": 6,
     "metadata": {},
     "output_type": "execute_result"
    }
   ],
   "source": [
    "apps.dtypes"
   ]
  },
  {
   "cell_type": "code",
   "execution_count": 7,
   "metadata": {},
   "outputs": [
    {
     "data": {
      "text/plain": [
       "Index(['SK_ID_CURR', 'TARGET', 'NAME_CONTRACT_TYPE', 'CODE_GENDER',\n",
       "       'FLAG_OWN_CAR', 'FLAG_OWN_REALTY', 'CNT_CHILDREN', 'AMT_INCOME_TOTAL',\n",
       "       'AMT_CREDIT', 'AMT_ANNUITY',\n",
       "       ...\n",
       "       'FLAG_DOCUMENT_18', 'FLAG_DOCUMENT_19', 'FLAG_DOCUMENT_20',\n",
       "       'FLAG_DOCUMENT_21', 'AMT_REQ_CREDIT_BUREAU_HOUR',\n",
       "       'AMT_REQ_CREDIT_BUREAU_DAY', 'AMT_REQ_CREDIT_BUREAU_WEEK',\n",
       "       'AMT_REQ_CREDIT_BUREAU_MON', 'AMT_REQ_CREDIT_BUREAU_QRT',\n",
       "       'AMT_REQ_CREDIT_BUREAU_YEAR'],\n",
       "      dtype='object', length=122)"
      ]
     },
     "execution_count": 7,
     "metadata": {},
     "output_type": "execute_result"
    }
   ],
   "source": [
    "apps.dtypes.index"
   ]
  },
  {
   "cell_type": "code",
   "execution_count": 8,
   "metadata": {},
   "outputs": [
    {
     "data": {
      "text/plain": [
       "['NAME_CONTRACT_TYPE',\n",
       " 'CODE_GENDER',\n",
       " 'FLAG_OWN_CAR',\n",
       " 'FLAG_OWN_REALTY',\n",
       " 'NAME_TYPE_SUITE',\n",
       " 'NAME_INCOME_TYPE',\n",
       " 'NAME_EDUCATION_TYPE',\n",
       " 'NAME_FAMILY_STATUS',\n",
       " 'NAME_HOUSING_TYPE',\n",
       " 'OCCUPATION_TYPE',\n",
       " 'WEEKDAY_APPR_PROCESS_START',\n",
       " 'ORGANIZATION_TYPE',\n",
       " 'FONDKAPREMONT_MODE',\n",
       " 'HOUSETYPE_MODE',\n",
       " 'WALLSMATERIAL_MODE',\n",
       " 'EMERGENCYSTATE_MODE']"
      ]
     },
     "execution_count": 8,
     "metadata": {},
     "output_type": "execute_result"
    }
   ],
   "source": [
    "object_columns = apps.dtypes[apps.dtypes == 'object'].index.tolist()\n",
    "object_columns"
   ]
  },
  {
   "cell_type": "code",
   "execution_count": 9,
   "metadata": {},
   "outputs": [],
   "source": [
    "apps['CODE_GENDER'] = pd.factorize(apps['CODE_GENDER'])[0]"
   ]
  },
  {
   "cell_type": "code",
   "execution_count": 10,
   "metadata": {},
   "outputs": [
    {
     "name": "stdout",
     "output_type": "stream",
     "text": [
      "<class 'pandas.core.frame.DataFrame'>\n",
      "Int64Index: 356255 entries, 0 to 48743\n",
      "Columns: 122 entries, SK_ID_CURR to AMT_REQ_CREDIT_BUREAU_YEAR\n",
      "dtypes: float64(66), int64(41), object(15)\n",
      "memory usage: 334.3+ MB\n"
     ]
    }
   ],
   "source": [
    "apps.info()"
   ]
  },
  {
   "cell_type": "code",
   "execution_count": 11,
   "metadata": {},
   "outputs": [],
   "source": [
    "object_columns = apps.dtypes[apps.dtypes == 'object'].index.tolist()\n",
    "\n",
    "for column in object_columns:\n",
    "    apps[column] = pd.factorize(apps[column])[0]"
   ]
  },
  {
   "cell_type": "code",
   "execution_count": 12,
   "metadata": {},
   "outputs": [
    {
     "name": "stdout",
     "output_type": "stream",
     "text": [
      "<class 'pandas.core.frame.DataFrame'>\n",
      "Int64Index: 356255 entries, 0 to 48743\n",
      "Columns: 122 entries, SK_ID_CURR to AMT_REQ_CREDIT_BUREAU_YEAR\n",
      "dtypes: float64(66), int64(56)\n",
      "memory usage: 334.3 MB\n"
     ]
    }
   ],
   "source": [
    "apps.info()"
   ]
  },
  {
   "cell_type": "code",
   "execution_count": 13,
   "metadata": {},
   "outputs": [
    {
     "data": {
      "text/plain": [
       "SK_ID_CURR                           0\n",
       "TARGET                           48744\n",
       "NAME_CONTRACT_TYPE                   0\n",
       "CODE_GENDER                          0\n",
       "FLAG_OWN_CAR                         0\n",
       "FLAG_OWN_REALTY                      0\n",
       "CNT_CHILDREN                         0\n",
       "AMT_INCOME_TOTAL                     0\n",
       "AMT_CREDIT                           0\n",
       "AMT_ANNUITY                         36\n",
       "AMT_GOODS_PRICE                    278\n",
       "NAME_TYPE_SUITE                      0\n",
       "NAME_INCOME_TYPE                     0\n",
       "NAME_EDUCATION_TYPE                  0\n",
       "NAME_FAMILY_STATUS                   0\n",
       "NAME_HOUSING_TYPE                    0\n",
       "REGION_POPULATION_RELATIVE           0\n",
       "DAYS_BIRTH                           0\n",
       "DAYS_EMPLOYED                        0\n",
       "DAYS_REGISTRATION                    0\n",
       "DAYS_ID_PUBLISH                      0\n",
       "OWN_CAR_AGE                     235241\n",
       "FLAG_MOBIL                           0\n",
       "FLAG_EMP_PHONE                       0\n",
       "FLAG_WORK_PHONE                      0\n",
       "FLAG_CONT_MOBILE                     0\n",
       "FLAG_PHONE                           0\n",
       "FLAG_EMAIL                           0\n",
       "OCCUPATION_TYPE                      0\n",
       "CNT_FAM_MEMBERS                      2\n",
       "REGION_RATING_CLIENT                 0\n",
       "REGION_RATING_CLIENT_W_CITY          0\n",
       "WEEKDAY_APPR_PROCESS_START           0\n",
       "HOUR_APPR_PROCESS_START              0\n",
       "REG_REGION_NOT_LIVE_REGION           0\n",
       "REG_REGION_NOT_WORK_REGION           0\n",
       "LIVE_REGION_NOT_WORK_REGION          0\n",
       "REG_CITY_NOT_LIVE_CITY               0\n",
       "REG_CITY_NOT_WORK_CITY               0\n",
       "LIVE_CITY_NOT_WORK_CITY              0\n",
       "ORGANIZATION_TYPE                    0\n",
       "EXT_SOURCE_1                    193910\n",
       "EXT_SOURCE_2                       668\n",
       "EXT_SOURCE_3                     69633\n",
       "APARTMENTS_AVG                  179948\n",
       "BASEMENTAREA_AVG                207584\n",
       "YEARS_BEGINEXPLUATATION_AVG     172863\n",
       "YEARS_BUILD_AVG                 236306\n",
       "COMMONAREA_AVG                  248360\n",
       "ELEVATORS_AVG                   189080\n",
       "ENTRANCES_AVG                   178407\n",
       "FLOORSMAX_AVG                   176341\n",
       "FLOORSMIN_AVG                   241108\n",
       "LANDAREA_AVG                    210844\n",
       "LIVINGAPARTMENTS_AVG            242979\n",
       "LIVINGAREA_AVG                  177902\n",
       "NONLIVINGAPARTMENTS_AVG         246861\n",
       "NONLIVINGAREA_AVG               195766\n",
       "APARTMENTS_MODE                 179948\n",
       "BASEMENTAREA_MODE               207584\n",
       "YEARS_BEGINEXPLUATATION_MODE    172863\n",
       "YEARS_BUILD_MODE                236306\n",
       "COMMONAREA_MODE                 248360\n",
       "ELEVATORS_MODE                  189080\n",
       "ENTRANCES_MODE                  178407\n",
       "FLOORSMAX_MODE                  176341\n",
       "FLOORSMIN_MODE                  241108\n",
       "LANDAREA_MODE                   210844\n",
       "LIVINGAPARTMENTS_MODE           242979\n",
       "LIVINGAREA_MODE                 177902\n",
       "NONLIVINGAPARTMENTS_MODE        246861\n",
       "NONLIVINGAREA_MODE              195766\n",
       "APARTMENTS_MEDI                 179948\n",
       "BASEMENTAREA_MEDI               207584\n",
       "YEARS_BEGINEXPLUATATION_MEDI    172863\n",
       "YEARS_BUILD_MEDI                236306\n",
       "COMMONAREA_MEDI                 248360\n",
       "ELEVATORS_MEDI                  189080\n",
       "ENTRANCES_MEDI                  178407\n",
       "FLOORSMAX_MEDI                  176341\n",
       "FLOORSMIN_MEDI                  241108\n",
       "LANDAREA_MEDI                   210844\n",
       "LIVINGAPARTMENTS_MEDI           242979\n",
       "LIVINGAREA_MEDI                 177902\n",
       "NONLIVINGAPARTMENTS_MEDI        246861\n",
       "NONLIVINGAREA_MEDI              195766\n",
       "FONDKAPREMONT_MODE                   0\n",
       "HOUSETYPE_MODE                       0\n",
       "TOTALAREA_MODE                  171055\n",
       "WALLSMATERIAL_MODE                   0\n",
       "EMERGENCYSTATE_MODE                  0\n",
       "OBS_30_CNT_SOCIAL_CIRCLE          1050\n",
       "DEF_30_CNT_SOCIAL_CIRCLE          1050\n",
       "OBS_60_CNT_SOCIAL_CIRCLE          1050\n",
       "DEF_60_CNT_SOCIAL_CIRCLE          1050\n",
       "DAYS_LAST_PHONE_CHANGE               1\n",
       "FLAG_DOCUMENT_2                      0\n",
       "FLAG_DOCUMENT_3                      0\n",
       "FLAG_DOCUMENT_4                      0\n",
       "FLAG_DOCUMENT_5                      0\n",
       "dtype: int64"
      ]
     },
     "execution_count": 13,
     "metadata": {},
     "output_type": "execute_result"
    }
   ],
   "source": [
    "apps.isnull().sum().head(100)"
   ]
  },
  {
   "cell_type": "code",
   "execution_count": 14,
   "metadata": {},
   "outputs": [
    {
     "data": {
      "text/plain": [
       "SK_ID_CURR                      0\n",
       "TARGET                          0\n",
       "NAME_CONTRACT_TYPE              0\n",
       "CODE_GENDER                     0\n",
       "FLAG_OWN_CAR                    0\n",
       "FLAG_OWN_REALTY                 0\n",
       "CNT_CHILDREN                    0\n",
       "AMT_INCOME_TOTAL                0\n",
       "AMT_CREDIT                      0\n",
       "AMT_ANNUITY                     0\n",
       "AMT_GOODS_PRICE                 0\n",
       "NAME_TYPE_SUITE                 0\n",
       "NAME_INCOME_TYPE                0\n",
       "NAME_EDUCATION_TYPE             0\n",
       "NAME_FAMILY_STATUS              0\n",
       "NAME_HOUSING_TYPE               0\n",
       "REGION_POPULATION_RELATIVE      0\n",
       "DAYS_BIRTH                      0\n",
       "DAYS_EMPLOYED                   0\n",
       "DAYS_REGISTRATION               0\n",
       "DAYS_ID_PUBLISH                 0\n",
       "OWN_CAR_AGE                     0\n",
       "FLAG_MOBIL                      0\n",
       "FLAG_EMP_PHONE                  0\n",
       "FLAG_WORK_PHONE                 0\n",
       "FLAG_CONT_MOBILE                0\n",
       "FLAG_PHONE                      0\n",
       "FLAG_EMAIL                      0\n",
       "OCCUPATION_TYPE                 0\n",
       "CNT_FAM_MEMBERS                 0\n",
       "REGION_RATING_CLIENT            0\n",
       "REGION_RATING_CLIENT_W_CITY     0\n",
       "WEEKDAY_APPR_PROCESS_START      0\n",
       "HOUR_APPR_PROCESS_START         0\n",
       "REG_REGION_NOT_LIVE_REGION      0\n",
       "REG_REGION_NOT_WORK_REGION      0\n",
       "LIVE_REGION_NOT_WORK_REGION     0\n",
       "REG_CITY_NOT_LIVE_CITY          0\n",
       "REG_CITY_NOT_WORK_CITY          0\n",
       "LIVE_CITY_NOT_WORK_CITY         0\n",
       "ORGANIZATION_TYPE               0\n",
       "EXT_SOURCE_1                    0\n",
       "EXT_SOURCE_2                    0\n",
       "EXT_SOURCE_3                    0\n",
       "APARTMENTS_AVG                  0\n",
       "BASEMENTAREA_AVG                0\n",
       "YEARS_BEGINEXPLUATATION_AVG     0\n",
       "YEARS_BUILD_AVG                 0\n",
       "COMMONAREA_AVG                  0\n",
       "ELEVATORS_AVG                   0\n",
       "ENTRANCES_AVG                   0\n",
       "FLOORSMAX_AVG                   0\n",
       "FLOORSMIN_AVG                   0\n",
       "LANDAREA_AVG                    0\n",
       "LIVINGAPARTMENTS_AVG            0\n",
       "LIVINGAREA_AVG                  0\n",
       "NONLIVINGAPARTMENTS_AVG         0\n",
       "NONLIVINGAREA_AVG               0\n",
       "APARTMENTS_MODE                 0\n",
       "BASEMENTAREA_MODE               0\n",
       "YEARS_BEGINEXPLUATATION_MODE    0\n",
       "YEARS_BUILD_MODE                0\n",
       "COMMONAREA_MODE                 0\n",
       "ELEVATORS_MODE                  0\n",
       "ENTRANCES_MODE                  0\n",
       "FLOORSMAX_MODE                  0\n",
       "FLOORSMIN_MODE                  0\n",
       "LANDAREA_MODE                   0\n",
       "LIVINGAPARTMENTS_MODE           0\n",
       "LIVINGAREA_MODE                 0\n",
       "NONLIVINGAPARTMENTS_MODE        0\n",
       "NONLIVINGAREA_MODE              0\n",
       "APARTMENTS_MEDI                 0\n",
       "BASEMENTAREA_MEDI               0\n",
       "YEARS_BEGINEXPLUATATION_MEDI    0\n",
       "YEARS_BUILD_MEDI                0\n",
       "COMMONAREA_MEDI                 0\n",
       "ELEVATORS_MEDI                  0\n",
       "ENTRANCES_MEDI                  0\n",
       "FLOORSMAX_MEDI                  0\n",
       "FLOORSMIN_MEDI                  0\n",
       "LANDAREA_MEDI                   0\n",
       "LIVINGAPARTMENTS_MEDI           0\n",
       "LIVINGAREA_MEDI                 0\n",
       "NONLIVINGAPARTMENTS_MEDI        0\n",
       "NONLIVINGAREA_MEDI              0\n",
       "FONDKAPREMONT_MODE              0\n",
       "HOUSETYPE_MODE                  0\n",
       "TOTALAREA_MODE                  0\n",
       "WALLSMATERIAL_MODE              0\n",
       "EMERGENCYSTATE_MODE             0\n",
       "OBS_30_CNT_SOCIAL_CIRCLE        0\n",
       "DEF_30_CNT_SOCIAL_CIRCLE        0\n",
       "OBS_60_CNT_SOCIAL_CIRCLE        0\n",
       "DEF_60_CNT_SOCIAL_CIRCLE        0\n",
       "DAYS_LAST_PHONE_CHANGE          0\n",
       "FLAG_DOCUMENT_2                 0\n",
       "FLAG_DOCUMENT_3                 0\n",
       "FLAG_DOCUMENT_4                 0\n",
       "FLAG_DOCUMENT_5                 0\n",
       "dtype: int64"
      ]
     },
     "execution_count": 14,
     "metadata": {},
     "output_type": "execute_result"
    }
   ],
   "source": [
    "apps = apps.fillna(-999)\n",
    "apps.isnull().sum().head(100)"
   ]
  },
  {
   "cell_type": "code",
   "execution_count": 15,
   "metadata": {},
   "outputs": [
    {
     "data": {
      "text/plain": [
       "((307511, 122), (48744, 122))"
      ]
     },
     "execution_count": 15,
     "metadata": {},
     "output_type": "execute_result"
    }
   ],
   "source": [
    "app_train = apps[apps['TARGET'] != -999]\n",
    "app_test = apps[apps['TARGET'] == -999]\n",
    "app_train.shape, app_test.shape"
   ]
  },
  {
   "cell_type": "code",
   "execution_count": 16,
   "metadata": {},
   "outputs": [
    {
     "data": {
      "text/plain": [
       "(48744, 121)"
      ]
     },
     "execution_count": 16,
     "metadata": {},
     "output_type": "execute_result"
    }
   ],
   "source": [
    "app_test = app_test.drop('TARGET', axis=1, inplace=False)\n",
    "app_test.shape"
   ]
  },
  {
   "cell_type": "code",
   "execution_count": null,
   "metadata": {},
   "outputs": [],
   "source": []
  }
 ],
 "metadata": {
  "kernelspec": {
   "display_name": "Python 3",
   "language": "python",
   "name": "python3"
  },
  "language_info": {
   "codemirror_mode": {
    "name": "ipython",
    "version": 3
   },
   "file_extension": ".py",
   "mimetype": "text/x-python",
   "name": "python",
   "nbconvert_exporter": "python",
   "pygments_lexer": "ipython3",
   "version": "3.7.0"
  }
 },
 "nbformat": 4,
 "nbformat_minor": 4
}
