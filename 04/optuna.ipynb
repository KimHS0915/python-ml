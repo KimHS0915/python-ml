{
 "cells": [
  {
   "cell_type": "code",
   "execution_count": 1,
   "metadata": {},
   "outputs": [
    {
     "name": "stdout",
     "output_type": "stream",
     "text": [
      "2.10.0\n"
     ]
    }
   ],
   "source": [
    "import optuna\n",
    "\n",
    "print(optuna.__version__)"
   ]
  },
  {
   "cell_type": "code",
   "execution_count": 2,
   "metadata": {},
   "outputs": [],
   "source": [
    "import warnings\n",
    "warnings.filterwarnings('ignore')"
   ]
  },
  {
   "cell_type": "code",
   "execution_count": 3,
   "metadata": {},
   "outputs": [],
   "source": [
    "import pandas as pd\n",
    "from sklearn.datasets import load_breast_cancer\n",
    "from sklearn.model_selection import train_test_split\n",
    "\n",
    "dataset = load_breast_cancer()\n",
    "\n",
    "cancer_df = pd.DataFrame(data=dataset.data, columns=dataset.feature_names)\n",
    "cancer_df['target'] = dataset.target\n",
    "x_features = cancer_df.iloc[:, :-1]\n",
    "y_label = cancer_df.iloc[:, -1]\n",
    "\n",
    "x_train, x_test, y_train, y_test = train_test_split(x_features, y_label, \n",
    "                                                    test_size=0.2, random_state=156)\n",
    "x_tr, x_val, y_tr, y_val = train_test_split(x_train, y_train, \n",
    "                                            test_size=0.1, random_state=156)"
   ]
  },
  {
   "cell_type": "code",
   "execution_count": 4,
   "metadata": {},
   "outputs": [],
   "source": [
    "import numpy as np\n",
    "from xgboost import XGBClassifier\n",
    "from sklearn.model_selection import cross_val_score\n",
    "\n",
    "def objective(trial):\n",
    "\n",
    "    params = {\n",
    "        'max_depth': trial.suggest_int('max_depth', 4, 10),\n",
    "        'min_child_weight': trial.suggest_int('min_child_weight', 1, 5),\n",
    "        'learning_rate': trial.suggest_uniform('learning_rate', 0.01, 0.2),\n",
    "        'colsample_bytree': trial.suggest_float('colsample_bytree', 0.5, 1.0),\n",
    "        'n_estimators': trial.suggest_int('n_estimators', 100, 1000, step=100),\n",
    "        'eval_metric':'logloss',\n",
    "    }\n",
    "    \n",
    "    xgb_clf = XGBClassifier(**params)\n",
    "    accuracy = cross_val_score(xgb_clf, x_train, y_train, scoring='accuracy', cv=3)\n",
    "    \n",
    "    return np.mean(accuracy)"
   ]
  },
  {
   "cell_type": "code",
   "execution_count": 5,
   "metadata": {},
   "outputs": [
    {
     "name": "stderr",
     "output_type": "stream",
     "text": [
      "\u001b[32m[I 2022-04-23 23:24:49,295]\u001b[0m A new study created in memory with name: no-name-83e8cb00-c1f9-404c-82d8-e9e2bd280706\u001b[0m\n"
     ]
    },
    {
     "data": {
      "application/vnd.jupyter.widget-view+json": {
       "model_id": "06415a6461914926badec2190f8dd95f",
       "version_major": 2,
       "version_minor": 0
      },
      "text/plain": [
       "HBox(children=(HTML(value=''), FloatProgress(value=0.0), HTML(value='')))"
      ]
     },
     "metadata": {},
     "output_type": "display_data"
    },
    {
     "name": "stdout",
     "output_type": "stream",
     "text": [
      "\u001b[32m[I 2022-04-23 23:24:49,402]\u001b[0m Trial 0 finished with value: 0.9604827466016034 and parameters: {'max_depth': 8, 'min_child_weight': 4, 'learning_rate': 0.14240606184014973, 'colsample_bytree': 0.5751694136896937, 'n_estimators': 100}. Best is trial 0 with value: 0.9604827466016034.\u001b[0m\n",
      "\u001b[32m[I 2022-04-23 23:24:49,813]\u001b[0m Trial 1 finished with value: 0.967047170907401 and parameters: {'max_depth': 7, 'min_child_weight': 1, 'learning_rate': 0.11711193164449787, 'colsample_bytree': 0.5771231471103424, 'n_estimators': 1000}. Best is trial 1 with value: 0.967047170907401.\u001b[0m\n",
      "\u001b[32m[I 2022-04-23 23:24:50,073]\u001b[0m Trial 2 finished with value: 0.9626757290577438 and parameters: {'max_depth': 7, 'min_child_weight': 5, 'learning_rate': 0.1784565712962714, 'colsample_bytree': 0.5158566802978718, 'n_estimators': 800}. Best is trial 1 with value: 0.967047170907401.\u001b[0m\n",
      "\u001b[32m[I 2022-04-23 23:24:50,324]\u001b[0m Trial 3 finished with value: 0.9626466829324968 and parameters: {'max_depth': 6, 'min_child_weight': 2, 'learning_rate': 0.1622795627200813, 'colsample_bytree': 0.6592204752608744, 'n_estimators': 600}. Best is trial 1 with value: 0.967047170907401.\u001b[0m\n",
      "\u001b[32m[I 2022-04-23 23:24:50,706]\u001b[0m Trial 4 finished with value: 0.9560532125014524 and parameters: {'max_depth': 7, 'min_child_weight': 2, 'learning_rate': 0.07186038270738876, 'colsample_bytree': 0.9624596587602445, 'n_estimators': 600}. Best is trial 1 with value: 0.967047170907401.\u001b[0m\n",
      "\u001b[32m[I 2022-04-23 23:24:50,811]\u001b[0m Trial 5 finished with value: 0.9560822586266992 and parameters: {'max_depth': 4, 'min_child_weight': 5, 'learning_rate': 0.123361935751251, 'colsample_bytree': 0.6345153466229442, 'n_estimators': 200}. Best is trial 1 with value: 0.967047170907401.\u001b[0m\n",
      "\u001b[32m[I 2022-04-23 23:24:51,018]\u001b[0m Trial 6 finished with value: 0.9604827466016034 and parameters: {'max_depth': 9, 'min_child_weight': 1, 'learning_rate': 0.0654890434552026, 'colsample_bytree': 0.6348847018419741, 'n_estimators': 200}. Best is trial 1 with value: 0.967047170907401.\u001b[0m\n",
      "\u001b[32m[I 2022-04-23 23:24:51,163]\u001b[0m Trial 7 finished with value: 0.9604682235389799 and parameters: {'max_depth': 5, 'min_child_weight': 3, 'learning_rate': 0.10503090811319364, 'colsample_bytree': 0.8017127864696598, 'n_estimators': 200}. Best is trial 1 with value: 0.967047170907401.\u001b[0m\n",
      "\u001b[32m[I 2022-04-23 23:24:51,369]\u001b[0m Trial 8 finished with value: 0.9604682235389799 and parameters: {'max_depth': 10, 'min_child_weight': 3, 'learning_rate': 0.09847622986537816, 'colsample_bytree': 0.7329735835703006, 'n_estimators': 400}. Best is trial 1 with value: 0.967047170907401.\u001b[0m\n",
      "\u001b[32m[I 2022-04-23 23:24:51,780]\u001b[0m Trial 9 finished with value: 0.9582607180202162 and parameters: {'max_depth': 4, 'min_child_weight': 2, 'learning_rate': 0.06602749288302408, 'colsample_bytree': 0.9217538961083924, 'n_estimators': 700}. Best is trial 1 with value: 0.967047170907401.\u001b[0m\n",
      "\u001b[32m[I 2022-04-23 23:24:52,646]\u001b[0m Trial 10 finished with value: 0.958289764145463 and parameters: {'max_depth': 8, 'min_child_weight': 1, 'learning_rate': 0.013467988812745565, 'colsample_bytree': 0.5040031101765475, 'n_estimators': 1000}. Best is trial 1 with value: 0.967047170907401.\u001b[0m\n",
      "\u001b[32m[I 2022-04-23 23:24:52,977]\u001b[0m Trial 11 finished with value: 0.9604682235389799 and parameters: {'max_depth': 7, 'min_child_weight': 4, 'learning_rate': 0.19194359625222723, 'colsample_bytree': 0.5238723058373064, 'n_estimators': 1000}. Best is trial 1 with value: 0.967047170907401.\u001b[0m\n",
      "\u001b[32m[I 2022-04-23 23:24:53,259]\u001b[0m Trial 12 finished with value: 0.9560822586266992 and parameters: {'max_depth': 6, 'min_child_weight': 5, 'learning_rate': 0.18425139053549833, 'colsample_bytree': 0.5755676937833648, 'n_estimators': 800}. Best is trial 1 with value: 0.967047170907401.\u001b[0m\n",
      "\u001b[32m[I 2022-04-23 23:24:53,607]\u001b[0m Trial 13 finished with value: 0.9538892761705587 and parameters: {'max_depth': 8, 'min_child_weight': 4, 'learning_rate': 0.16091397796855672, 'colsample_bytree': 0.7435151993151018, 'n_estimators': 900}. Best is trial 1 with value: 0.967047170907401.\u001b[0m\n",
      "\u001b[32m[I 2022-04-23 23:24:54,418]\u001b[0m Trial 14 finished with value: 0.9582607180202162 and parameters: {'max_depth': 6, 'min_child_weight': 1, 'learning_rate': 0.023378812309673758, 'colsample_bytree': 0.8544524289916557, 'n_estimators': 800}. Best is trial 1 with value: 0.967047170907401.\u001b[0m\n",
      "\u001b[32m[I 2022-04-23 23:24:54,706]\u001b[0m Trial 15 finished with value: 0.9538747531079355 and parameters: {'max_depth': 9, 'min_child_weight': 5, 'learning_rate': 0.13240005738658578, 'colsample_bytree': 0.5667449717002295, 'n_estimators': 800}. Best is trial 1 with value: 0.967047170907401.\u001b[0m\n",
      "\u001b[32m[I 2022-04-23 23:24:55,076]\u001b[0m Trial 16 finished with value: 0.9692546764261647 and parameters: {'max_depth': 7, 'min_child_weight': 3, 'learning_rate': 0.1645359565975952, 'colsample_bytree': 0.6540736826568644, 'n_estimators': 1000}. Best is trial 16 with value: 0.9692546764261647.\u001b[0m\n",
      "\u001b[32m[I 2022-04-23 23:24:55,283]\u001b[0m Trial 17 finished with value: 0.9604537004763566 and parameters: {'max_depth': 5, 'min_child_weight': 2, 'learning_rate': 0.15207281241521314, 'colsample_bytree': 0.6708226858864463, 'n_estimators': 400}. Best is trial 16 with value: 0.9692546764261647.\u001b[0m\n",
      "\u001b[32m[I 2022-04-23 23:24:55,693]\u001b[0m Trial 18 finished with value: 0.9582607180202162 and parameters: {'max_depth': 7, 'min_child_weight': 3, 'learning_rate': 0.10991613411784558, 'colsample_bytree': 0.7071003614575986, 'n_estimators': 1000}. Best is trial 16 with value: 0.9692546764261647.\u001b[0m\n",
      "\u001b[32m[I 2022-04-23 23:24:56,050]\u001b[0m Trial 19 finished with value: 0.9604537004763564 and parameters: {'max_depth': 9, 'min_child_weight': 3, 'learning_rate': 0.09091507219835573, 'colsample_bytree': 0.5977792156484215, 'n_estimators': 900}. Best is trial 16 with value: 0.9692546764261647.\u001b[0m\n",
      "\u001b[32m[I 2022-04-23 23:24:56,309]\u001b[0m Trial 20 finished with value: 0.9604682235389799 and parameters: {'max_depth': 5, 'min_child_weight': 1, 'learning_rate': 0.1993345208217808, 'colsample_bytree': 0.7727221647812433, 'n_estimators': 500}. Best is trial 16 with value: 0.9692546764261647.\u001b[0m\n",
      "\u001b[32m[I 2022-04-23 23:24:56,631]\u001b[0m Trial 21 finished with value: 0.9538747531079355 and parameters: {'max_depth': 7, 'min_child_weight': 4, 'learning_rate': 0.17809108204704868, 'colsample_bytree': 0.5287113615517323, 'n_estimators': 900}. Best is trial 16 with value: 0.9692546764261647.\u001b[0m\n",
      "\u001b[32m[I 2022-04-23 23:24:57,000]\u001b[0m Trial 22 finished with value: 0.9582897641454631 and parameters: {'max_depth': 8, 'min_child_weight': 4, 'learning_rate': 0.16891785198713857, 'colsample_bytree': 0.6136594320028472, 'n_estimators': 1000}. Best is trial 16 with value: 0.9692546764261647.\u001b[0m\n",
      "\u001b[32m[I 2022-04-23 23:24:57,322]\u001b[0m Trial 23 finished with value: 0.9692401533635412 and parameters: {'max_depth': 6, 'min_child_weight': 2, 'learning_rate': 0.14210282354084924, 'colsample_bytree': 0.5495110335708538, 'n_estimators': 700}. Best is trial 16 with value: 0.9692546764261647.\u001b[0m\n",
      "\u001b[32m[I 2022-04-23 23:24:57,630]\u001b[0m Trial 24 finished with value: 0.9648396653886371 and parameters: {'max_depth': 6, 'min_child_weight': 2, 'learning_rate': 0.12448911946153006, 'colsample_bytree': 0.691486224161962, 'n_estimators': 700}. Best is trial 16 with value: 0.9692546764261647.\u001b[0m\n",
      "\u001b[32m[I 2022-04-23 23:24:57,901]\u001b[0m Trial 25 finished with value: 0.9648396653886371 and parameters: {'max_depth': 6, 'min_child_weight': 2, 'learning_rate': 0.14617747216000332, 'colsample_bytree': 0.5569525092213787, 'n_estimators': 700}. Best is trial 16 with value: 0.9692546764261647.\u001b[0m\n",
      "\u001b[32m[I 2022-04-23 23:24:58,334]\u001b[0m Trial 26 finished with value: 0.9626612059951203 and parameters: {'max_depth': 5, 'min_child_weight': 1, 'learning_rate': 0.08340850314672242, 'colsample_bytree': 0.616363915890727, 'n_estimators': 900}. Best is trial 16 with value: 0.9692546764261647.\u001b[0m\n",
      "\u001b[32m[I 2022-04-23 23:24:58,588]\u001b[0m Trial 27 finished with value: 0.9648396653886371 and parameters: {'max_depth': 6, 'min_child_weight': 2, 'learning_rate': 0.11890566729390477, 'colsample_bytree': 0.661125703067051, 'n_estimators': 500}. Best is trial 16 with value: 0.9692546764261647.\u001b[0m\n"
     ]
    },
    {
     "name": "stdout",
     "output_type": "stream",
     "text": [
      "\u001b[32m[I 2022-04-23 23:24:58,959]\u001b[0m Trial 28 finished with value: 0.9670616939700244 and parameters: {'max_depth': 8, 'min_child_weight': 1, 'learning_rate': 0.1425081796536227, 'colsample_bytree': 0.547987229442102, 'n_estimators': 900}. Best is trial 16 with value: 0.9692546764261647.\u001b[0m\n",
      "\u001b[32m[I 2022-04-23 23:24:59,231]\u001b[0m Trial 29 finished with value: 0.9604537004763564 and parameters: {'max_depth': 8, 'min_child_weight': 3, 'learning_rate': 0.13945072547334747, 'colsample_bytree': 0.5443966180859763, 'n_estimators': 700}. Best is trial 16 with value: 0.9692546764261647.\u001b[0m\n",
      "\u001b[32m[I 2022-04-23 23:24:59,582]\u001b[0m Trial 30 finished with value: 0.9604537004763566 and parameters: {'max_depth': 10, 'min_child_weight': 2, 'learning_rate': 0.15354935247676682, 'colsample_bytree': 0.5910497810986433, 'n_estimators': 900}. Best is trial 16 with value: 0.9692546764261647.\u001b[0m\n",
      "\u001b[32m[I 2022-04-23 23:24:59,970]\u001b[0m Trial 31 finished with value: 0.9626612059951203 and parameters: {'max_depth': 7, 'min_child_weight': 1, 'learning_rate': 0.13713772802653085, 'colsample_bytree': 0.5617245460917616, 'n_estimators': 1000}. Best is trial 16 with value: 0.9692546764261647.\u001b[0m\n",
      "\u001b[32m[I 2022-04-23 23:25:00,345]\u001b[0m Trial 32 finished with value: 0.9692546764261647 and parameters: {'max_depth': 8, 'min_child_weight': 1, 'learning_rate': 0.1342293712411763, 'colsample_bytree': 0.5925231807912396, 'n_estimators': 900}. Best is trial 16 with value: 0.9692546764261647.\u001b[0m\n",
      "\u001b[32m[I 2022-04-23 23:25:00,693]\u001b[0m Trial 33 finished with value: 0.964868711513884 and parameters: {'max_depth': 9, 'min_child_weight': 1, 'learning_rate': 0.1662596919738781, 'colsample_bytree': 0.6332896722475769, 'n_estimators': 800}. Best is trial 16 with value: 0.9692546764261647.\u001b[0m\n",
      "\u001b[32m[I 2022-04-23 23:25:01,051]\u001b[0m Trial 34 finished with value: 0.9670616939700244 and parameters: {'max_depth': 8, 'min_child_weight': 1, 'learning_rate': 0.13384663863558485, 'colsample_bytree': 0.506199689644669, 'n_estimators': 900}. Best is trial 16 with value: 0.9692546764261647.\u001b[0m\n",
      "\u001b[32m[I 2022-04-23 23:25:01,304]\u001b[0m Trial 35 finished with value: 0.9648396653886371 and parameters: {'max_depth': 8, 'min_child_weight': 2, 'learning_rate': 0.12980027270183583, 'colsample_bytree': 0.5071321363242556, 'n_estimators': 600}. Best is trial 16 with value: 0.9692546764261647.\u001b[0m\n",
      "\u001b[32m[I 2022-04-23 23:25:01,605]\u001b[0m Trial 36 finished with value: 0.9626757290577438 and parameters: {'max_depth': 7, 'min_child_weight': 3, 'learning_rate': 0.1471215941253236, 'colsample_bytree': 0.5888443498798354, 'n_estimators': 800}. Best is trial 16 with value: 0.9692546764261647.\u001b[0m\n",
      "\u001b[32m[I 2022-04-23 23:25:01,971]\u001b[0m Trial 37 finished with value: 0.9648541884512606 and parameters: {'max_depth': 9, 'min_child_weight': 1, 'learning_rate': 0.11551346665489544, 'colsample_bytree': 0.5295085030902517, 'n_estimators': 900}. Best is trial 16 with value: 0.9692546764261647.\u001b[0m\n",
      "\u001b[32m[I 2022-04-23 23:25:02,357]\u001b[0m Trial 38 finished with value: 0.9670326478447775 and parameters: {'max_depth': 8, 'min_child_weight': 2, 'learning_rate': 0.17773806582822474, 'colsample_bytree': 0.6883223742088224, 'n_estimators': 1000}. Best is trial 16 with value: 0.9692546764261647.\u001b[0m\n",
      "\u001b[32m[I 2022-04-23 23:25:02,698]\u001b[0m Trial 39 finished with value: 0.9670616939700244 and parameters: {'max_depth': 7, 'min_child_weight': 1, 'learning_rate': 0.1543084596328899, 'colsample_bytree': 0.6272370038920089, 'n_estimators': 800}. Best is trial 16 with value: 0.9692546764261647.\u001b[0m\n",
      "\u001b[32m[I 2022-04-23 23:25:03,124]\u001b[0m Trial 40 finished with value: 0.9648541884512606 and parameters: {'max_depth': 8, 'min_child_weight': 2, 'learning_rate': 0.046174017154471975, 'colsample_bytree': 0.6558672702387011, 'n_estimators': 700}. Best is trial 16 with value: 0.9692546764261647.\u001b[0m\n",
      "\u001b[32m[I 2022-04-23 23:25:03,461]\u001b[0m Trial 41 finished with value: 0.9626612059951203 and parameters: {'max_depth': 7, 'min_child_weight': 1, 'learning_rate': 0.15703564654962024, 'colsample_bytree': 0.6192182336866225, 'n_estimators': 800}. Best is trial 16 with value: 0.9692546764261647.\u001b[0m\n",
      "\u001b[32m[I 2022-04-23 23:25:03,783]\u001b[0m Trial 42 finished with value: 0.9604537004763566 and parameters: {'max_depth': 7, 'min_child_weight': 1, 'learning_rate': 0.17175731717754472, 'colsample_bytree': 0.5419668087319849, 'n_estimators': 800}. Best is trial 16 with value: 0.9692546764261647.\u001b[0m\n",
      "\u001b[32m[I 2022-04-23 23:25:04,066]\u001b[0m Trial 43 finished with value: 0.9604682235389799 and parameters: {'max_depth': 7, 'min_child_weight': 1, 'learning_rate': 0.14231542225797805, 'colsample_bytree': 0.6008086269864461, 'n_estimators': 600}. Best is trial 16 with value: 0.9692546764261647.\u001b[0m\n",
      "\u001b[32m[I 2022-04-23 23:25:04,448]\u001b[0m Trial 44 finished with value: 0.9582752410828395 and parameters: {'max_depth': 6, 'min_child_weight': 1, 'learning_rate': 0.15917735760070575, 'colsample_bytree': 0.6411723459321254, 'n_estimators': 900}. Best is trial 16 with value: 0.9692546764261647.\u001b[0m\n",
      "\u001b[32m[I 2022-04-23 23:25:04,789]\u001b[0m Trial 45 finished with value: 0.9626612059951203 and parameters: {'max_depth': 9, 'min_child_weight': 2, 'learning_rate': 0.12870508086867624, 'colsample_bytree': 0.501382824876684, 'n_estimators': 900}. Best is trial 16 with value: 0.9692546764261647.\u001b[0m\n",
      "\u001b[32m[I 2022-04-23 23:25:05,312]\u001b[0m Trial 46 finished with value: 0.9560532125014524 and parameters: {'max_depth': 7, 'min_child_weight': 1, 'learning_rate': 0.14721747268432298, 'colsample_bytree': 0.9874150518330629, 'n_estimators': 1000}. Best is trial 16 with value: 0.9692546764261647.\u001b[0m\n",
      "\u001b[32m[I 2022-04-23 23:25:05,696]\u001b[0m Trial 47 finished with value: 0.9648396653886371 and parameters: {'max_depth': 6, 'min_child_weight': 2, 'learning_rate': 0.09932518583939132, 'colsample_bytree': 0.7123385465505603, 'n_estimators': 800}. Best is trial 16 with value: 0.9692546764261647.\u001b[0m\n",
      "\u001b[32m[I 2022-04-23 23:25:06,037]\u001b[0m Trial 48 finished with value: 0.9582607180202162 and parameters: {'max_depth': 8, 'min_child_weight': 3, 'learning_rate': 0.11282191362025942, 'colsample_bytree': 0.8426254429083186, 'n_estimators': 700}. Best is trial 16 with value: 0.9692546764261647.\u001b[0m\n",
      "\u001b[32m[I 2022-04-23 23:25:06,451]\u001b[0m Trial 49 finished with value: 0.9648541884512606 and parameters: {'max_depth': 7, 'min_child_weight': 1, 'learning_rate': 0.18750335627675174, 'colsample_bytree': 0.5830183022451018, 'n_estimators': 1000}. Best is trial 16 with value: 0.9692546764261647.\u001b[0m\n",
      "\u001b[32m[I 2022-04-23 23:25:06,812]\u001b[0m Trial 50 finished with value: 0.9604682235389799 and parameters: {'max_depth': 5, 'min_child_weight': 3, 'learning_rate': 0.13475323242747306, 'colsample_bytree': 0.7633170388370546, 'n_estimators': 900}. Best is trial 16 with value: 0.9692546764261647.\u001b[0m\n",
      "\u001b[32m[I 2022-04-23 23:25:07,154]\u001b[0m Trial 51 finished with value: 0.9670762170326479 and parameters: {'max_depth': 8, 'min_child_weight': 1, 'learning_rate': 0.1514622666723946, 'colsample_bytree': 0.5472959369881989, 'n_estimators': 900}. Best is trial 16 with value: 0.9692546764261647.\u001b[0m\n",
      "\u001b[32m[I 2022-04-23 23:25:07,463]\u001b[0m Trial 52 finished with value: 0.964868711513884 and parameters: {'max_depth': 8, 'min_child_weight': 1, 'learning_rate': 0.16367471423146548, 'colsample_bytree': 0.5610987641665736, 'n_estimators': 800}. Best is trial 16 with value: 0.9692546764261647.\u001b[0m\n",
      "\u001b[32m[I 2022-04-23 23:25:07,823]\u001b[0m Trial 53 finished with value: 0.9648541884512606 and parameters: {'max_depth': 9, 'min_child_weight': 1, 'learning_rate': 0.12315412391417484, 'colsample_bytree': 0.5417944109951113, 'n_estimators': 900}. Best is trial 16 with value: 0.9692546764261647.\u001b[0m\n",
      "\u001b[32m[I 2022-04-23 23:25:08,192]\u001b[0m Trial 54 finished with value: 0.964868711513884 and parameters: {'max_depth': 8, 'min_child_weight': 1, 'learning_rate': 0.14112211933690982, 'colsample_bytree': 0.5321049402244339, 'n_estimators': 1000}. Best is trial 16 with value: 0.9692546764261647.\u001b[0m\n",
      "\u001b[32m[I 2022-04-23 23:25:08,294]\u001b[0m Trial 55 finished with value: 0.9648541884512606 and parameters: {'max_depth': 7, 'min_child_weight': 1, 'learning_rate': 0.1713757826569361, 'colsample_bytree': 0.5704261819337135, 'n_estimators': 100}. Best is trial 16 with value: 0.9692546764261647.\u001b[0m\n"
     ]
    },
    {
     "name": "stdout",
     "output_type": "stream",
     "text": [
      "\u001b[32m[I 2022-04-23 23:25:08,608]\u001b[0m Trial 56 finished with value: 0.960439177413733 and parameters: {'max_depth': 4, 'min_child_weight': 2, 'learning_rate': 0.1517238117316874, 'colsample_bytree': 0.6421784741619132, 'n_estimators': 800}. Best is trial 16 with value: 0.9692546764261647.\u001b[0m\n",
      "\u001b[32m[I 2022-04-23 23:25:08,974]\u001b[0m Trial 57 finished with value: 0.9604682235389799 and parameters: {'max_depth': 8, 'min_child_weight': 1, 'learning_rate': 0.10790213096497502, 'colsample_bytree': 0.5169738662481778, 'n_estimators': 900}. Best is trial 16 with value: 0.9692546764261647.\u001b[0m\n",
      "\u001b[32m[I 2022-04-23 23:25:09,164]\u001b[0m Trial 58 finished with value: 0.9626466829324968 and parameters: {'max_depth': 8, 'min_child_weight': 2, 'learning_rate': 0.13306731344919615, 'colsample_bytree': 0.5576373590059223, 'n_estimators': 400}. Best is trial 16 with value: 0.9692546764261647.\u001b[0m\n",
      "\u001b[32m[I 2022-04-23 23:25:09,572]\u001b[0m Trial 59 finished with value: 0.9692691994887882 and parameters: {'max_depth': 9, 'min_child_weight': 1, 'learning_rate': 0.1237459933232244, 'colsample_bytree': 0.6064401654451399, 'n_estimators': 1000}. Best is trial 59 with value: 0.9692691994887882.\u001b[0m\n",
      "\u001b[32m[I 2022-04-23 23:25:09,938]\u001b[0m Trial 60 finished with value: 0.9604682235389799 and parameters: {'max_depth': 10, 'min_child_weight': 3, 'learning_rate': 0.12255996329603873, 'colsample_bytree': 0.6088571867023865, 'n_estimators': 1000}. Best is trial 59 with value: 0.9692691994887882.\u001b[0m\n",
      "\u001b[32m[I 2022-04-23 23:25:10,322]\u001b[0m Trial 61 finished with value: 0.9692546764261647 and parameters: {'max_depth': 9, 'min_child_weight': 1, 'learning_rate': 0.1544807733536377, 'colsample_bytree': 0.5827789224705516, 'n_estimators': 1000}. Best is trial 59 with value: 0.9692691994887882.\u001b[0m\n",
      "\u001b[32m[I 2022-04-23 23:25:10,702]\u001b[0m Trial 62 finished with value: 0.9692546764261647 and parameters: {'max_depth': 9, 'min_child_weight': 1, 'learning_rate': 0.1494942167073693, 'colsample_bytree': 0.5828209679905486, 'n_estimators': 1000}. Best is trial 59 with value: 0.9692691994887882.\u001b[0m\n",
      "\u001b[32m[I 2022-04-23 23:25:11,078]\u001b[0m Trial 63 finished with value: 0.9692401533635412 and parameters: {'max_depth': 9, 'min_child_weight': 1, 'learning_rate': 0.16130233935184143, 'colsample_bytree': 0.5838283816574431, 'n_estimators': 1000}. Best is trial 59 with value: 0.9692691994887882.\u001b[0m\n",
      "\u001b[32m[I 2022-04-23 23:25:11,452]\u001b[0m Trial 64 finished with value: 0.9692401533635412 and parameters: {'max_depth': 10, 'min_child_weight': 1, 'learning_rate': 0.16123948042250308, 'colsample_bytree': 0.5789677290185481, 'n_estimators': 1000}. Best is trial 59 with value: 0.9692691994887882.\u001b[0m\n",
      "\u001b[32m[I 2022-04-23 23:25:11,831]\u001b[0m Trial 65 finished with value: 0.9604682235389799 and parameters: {'max_depth': 9, 'min_child_weight': 1, 'learning_rate': 0.17725599349175003, 'colsample_bytree': 0.6041495727266443, 'n_estimators': 1000}. Best is trial 59 with value: 0.9692691994887882.\u001b[0m\n",
      "\u001b[32m[I 2022-04-23 23:25:12,176]\u001b[0m Trial 66 finished with value: 0.9648832345765075 and parameters: {'max_depth': 10, 'min_child_weight': 4, 'learning_rate': 0.19174293743498574, 'colsample_bytree': 0.6517624105862221, 'n_estimators': 1000}. Best is trial 59 with value: 0.9692691994887882.\u001b[0m\n",
      "\u001b[32m[I 2022-04-23 23:25:12,515]\u001b[0m Trial 67 finished with value: 0.9582752410828395 and parameters: {'max_depth': 10, 'min_child_weight': 5, 'learning_rate': 0.16339375507271015, 'colsample_bytree': 0.5773563678753499, 'n_estimators': 1000}. Best is trial 59 with value: 0.9692691994887882.\u001b[0m\n",
      "\u001b[32m[I 2022-04-23 23:25:12,921]\u001b[0m Trial 68 finished with value: 0.9648541884512606 and parameters: {'max_depth': 9, 'min_child_weight': 1, 'learning_rate': 0.1820635864498784, 'colsample_bytree': 0.6725512248456316, 'n_estimators': 1000}. Best is trial 59 with value: 0.9692691994887882.\u001b[0m\n",
      "\u001b[32m[I 2022-04-23 23:25:13,306]\u001b[0m Trial 69 finished with value: 0.9648396653886371 and parameters: {'max_depth': 10, 'min_child_weight': 2, 'learning_rate': 0.12763677099047002, 'colsample_bytree': 0.6148834611472713, 'n_estimators': 1000}. Best is trial 59 with value: 0.9692691994887882.\u001b[0m\n",
      "\u001b[32m[I 2022-04-23 23:25:13,689]\u001b[0m Trial 70 finished with value: 0.9648541884512606 and parameters: {'max_depth': 9, 'min_child_weight': 1, 'learning_rate': 0.17196734605451214, 'colsample_bytree': 0.5899825850767573, 'n_estimators': 1000}. Best is trial 59 with value: 0.9692691994887882.\u001b[0m\n",
      "\u001b[32m[I 2022-04-23 23:25:14,077]\u001b[0m Trial 71 finished with value: 0.9670616939700244 and parameters: {'max_depth': 9, 'min_child_weight': 1, 'learning_rate': 0.16048309406611486, 'colsample_bytree': 0.5767251893806136, 'n_estimators': 1000}. Best is trial 59 with value: 0.9692691994887882.\u001b[0m\n",
      "\u001b[32m[I 2022-04-23 23:25:14,472]\u001b[0m Trial 72 finished with value: 0.9692546764261647 and parameters: {'max_depth': 10, 'min_child_weight': 1, 'learning_rate': 0.14513426757438913, 'colsample_bytree': 0.5997791670612186, 'n_estimators': 1000}. Best is trial 59 with value: 0.9692691994887882.\u001b[0m\n",
      "\u001b[32m[I 2022-04-23 23:25:14,878]\u001b[0m Trial 73 finished with value: 0.964868711513884 and parameters: {'max_depth': 10, 'min_child_weight': 1, 'learning_rate': 0.14752612414135294, 'colsample_bytree': 0.6244880768329079, 'n_estimators': 1000}. Best is trial 59 with value: 0.9692691994887882.\u001b[0m\n",
      "\u001b[32m[I 2022-04-23 23:25:15,246]\u001b[0m Trial 74 finished with value: 0.964868711513884 and parameters: {'max_depth': 10, 'min_child_weight': 1, 'learning_rate': 0.13862889645255863, 'colsample_bytree': 0.5980351733637722, 'n_estimators': 900}. Best is trial 59 with value: 0.9692691994887882.\u001b[0m\n",
      "\u001b[32m[I 2022-04-23 23:25:15,698]\u001b[0m Trial 75 finished with value: 0.9604682235389799 and parameters: {'max_depth': 10, 'min_child_weight': 2, 'learning_rate': 0.1452143897089251, 'colsample_bytree': 0.9138164334964765, 'n_estimators': 1000}. Best is trial 59 with value: 0.9692691994887882.\u001b[0m\n",
      "\u001b[32m[I 2022-04-23 23:25:16,091]\u001b[0m Trial 76 finished with value: 0.9692546764261647 and parameters: {'max_depth': 9, 'min_child_weight': 1, 'learning_rate': 0.1650940180808597, 'colsample_bytree': 0.5716473265752025, 'n_estimators': 1000}. Best is trial 59 with value: 0.9692691994887882.\u001b[0m\n",
      "\u001b[32m[I 2022-04-23 23:25:16,474]\u001b[0m Trial 77 finished with value: 0.9604827466016034 and parameters: {'max_depth': 9, 'min_child_weight': 1, 'learning_rate': 0.15525588420632333, 'colsample_bytree': 0.6800363421870521, 'n_estimators': 900}. Best is trial 59 with value: 0.9692691994887882.\u001b[0m\n",
      "\u001b[32m[I 2022-04-23 23:25:16,868]\u001b[0m Trial 78 finished with value: 0.9626612059951203 and parameters: {'max_depth': 10, 'min_child_weight': 1, 'learning_rate': 0.1678382332624814, 'colsample_bytree': 0.5676838486830765, 'n_estimators': 1000}. Best is trial 59 with value: 0.9692691994887882.\u001b[0m\n",
      "\u001b[32m[I 2022-04-23 23:25:17,098]\u001b[0m Trial 79 finished with value: 0.9648251423260138 and parameters: {'max_depth': 9, 'min_child_weight': 2, 'learning_rate': 0.14947305958805882, 'colsample_bytree': 0.6308185175138951, 'n_estimators': 500}. Best is trial 59 with value: 0.9692691994887882.\u001b[0m\n",
      "\u001b[32m[I 2022-04-23 23:25:17,302]\u001b[0m Trial 80 finished with value: 0.9604682235389799 and parameters: {'max_depth': 9, 'min_child_weight': 1, 'learning_rate': 0.11874525138238018, 'colsample_bytree': 0.5960036694532534, 'n_estimators': 300}. Best is trial 59 with value: 0.9692691994887882.\u001b[0m\n",
      "\u001b[32m[I 2022-04-23 23:25:17,701]\u001b[0m Trial 81 finished with value: 0.9626757290577438 and parameters: {'max_depth': 9, 'min_child_weight': 1, 'learning_rate': 0.15719287328729015, 'colsample_bytree': 0.6094545730335738, 'n_estimators': 1000}. Best is trial 59 with value: 0.9692691994887882.\u001b[0m\n",
      "\u001b[32m[I 2022-04-23 23:25:18,088]\u001b[0m Trial 82 finished with value: 0.967047170907401 and parameters: {'max_depth': 9, 'min_child_weight': 1, 'learning_rate': 0.16521472217150368, 'colsample_bytree': 0.5862901626457154, 'n_estimators': 1000}. Best is trial 59 with value: 0.9692691994887882.\u001b[0m\n",
      "\u001b[32m[I 2022-04-23 23:25:18,469]\u001b[0m Trial 83 finished with value: 0.9626612059951203 and parameters: {'max_depth': 9, 'min_child_weight': 1, 'learning_rate': 0.13761202229493436, 'colsample_bytree': 0.549342530931294, 'n_estimators': 900}. Best is trial 59 with value: 0.9692691994887882.\u001b[0m\n"
     ]
    },
    {
     "name": "stdout",
     "output_type": "stream",
     "text": [
      "\u001b[32m[I 2022-04-23 23:25:18,851]\u001b[0m Trial 84 finished with value: 0.9648541884512606 and parameters: {'max_depth': 10, 'min_child_weight': 1, 'learning_rate': 0.17541058435636292, 'colsample_bytree': 0.5691485596948413, 'n_estimators': 1000}. Best is trial 59 with value: 0.9692691994887882.\u001b[0m\n",
      "\u001b[32m[I 2022-04-23 23:25:19,206]\u001b[0m Trial 85 finished with value: 0.9626612059951203 and parameters: {'max_depth': 9, 'min_child_weight': 1, 'learning_rate': 0.14263408645622594, 'colsample_bytree': 0.5302129269811056, 'n_estimators': 900}. Best is trial 59 with value: 0.9692691994887882.\u001b[0m\n",
      "\u001b[32m[I 2022-04-23 23:25:19,554]\u001b[0m Trial 86 finished with value: 0.9560532125014524 and parameters: {'max_depth': 6, 'min_child_weight': 4, 'learning_rate': 0.12778244709065203, 'colsample_bytree': 0.5560197430041094, 'n_estimators': 1000}. Best is trial 59 with value: 0.9692691994887882.\u001b[0m\n",
      "\u001b[32m[I 2022-04-23 23:25:19,960]\u001b[0m Trial 87 finished with value: 0.9582752410828395 and parameters: {'max_depth': 10, 'min_child_weight': 1, 'learning_rate': 0.16122828424223648, 'colsample_bytree': 0.646242095103573, 'n_estimators': 1000}. Best is trial 59 with value: 0.9692691994887882.\u001b[0m\n",
      "\u001b[32m[I 2022-04-23 23:25:20,345]\u001b[0m Trial 88 finished with value: 0.9648541884512606 and parameters: {'max_depth': 9, 'min_child_weight': 1, 'learning_rate': 0.1854227065349175, 'colsample_bytree': 0.6217861998532993, 'n_estimators': 1000}. Best is trial 59 with value: 0.9692691994887882.\u001b[0m\n",
      "\u001b[32m[I 2022-04-23 23:25:20,674]\u001b[0m Trial 89 finished with value: 0.9582607180202162 and parameters: {'max_depth': 10, 'min_child_weight': 2, 'learning_rate': 0.15152818203664947, 'colsample_bytree': 0.5174026379643422, 'n_estimators': 900}. Best is trial 59 with value: 0.9692691994887882.\u001b[0m\n",
      "\u001b[32m[I 2022-04-23 23:25:21,058]\u001b[0m Trial 90 finished with value: 0.9670616939700244 and parameters: {'max_depth': 9, 'min_child_weight': 1, 'learning_rate': 0.16858458634877083, 'colsample_bytree': 0.583861219094986, 'n_estimators': 1000}. Best is trial 59 with value: 0.9692691994887882.\u001b[0m\n",
      "\u001b[32m[I 2022-04-23 23:25:21,427]\u001b[0m Trial 91 finished with value: 0.9670616939700244 and parameters: {'max_depth': 10, 'min_child_weight': 1, 'learning_rate': 0.15521366231702424, 'colsample_bytree': 0.577014930579841, 'n_estimators': 900}. Best is trial 59 with value: 0.9692691994887882.\u001b[0m\n",
      "\u001b[32m[I 2022-04-23 23:25:21,818]\u001b[0m Trial 92 finished with value: 0.964868711513884 and parameters: {'max_depth': 9, 'min_child_weight': 1, 'learning_rate': 0.15915544333035875, 'colsample_bytree': 0.5996781741808863, 'n_estimators': 1000}. Best is trial 59 with value: 0.9692691994887882.\u001b[0m\n",
      "\u001b[32m[I 2022-04-23 23:25:22,177]\u001b[0m Trial 93 finished with value: 0.9670616939700244 and parameters: {'max_depth': 9, 'min_child_weight': 1, 'learning_rate': 0.14451957650063524, 'colsample_bytree': 0.5408028906437669, 'n_estimators': 900}. Best is trial 59 with value: 0.9692691994887882.\u001b[0m\n",
      "\u001b[32m[I 2022-04-23 23:25:22,598]\u001b[0m Trial 94 finished with value: 0.9670616939700244 and parameters: {'max_depth': 8, 'min_child_weight': 1, 'learning_rate': 0.13246786821963008, 'colsample_bytree': 0.6616096165744041, 'n_estimators': 1000}. Best is trial 59 with value: 0.9692691994887882.\u001b[0m\n",
      "\u001b[32m[I 2022-04-23 23:25:22,937]\u001b[0m Trial 95 finished with value: 0.9626612059951202 and parameters: {'max_depth': 5, 'min_child_weight': 4, 'learning_rate': 0.17341967898392538, 'colsample_bytree': 0.5597053079992271, 'n_estimators': 1000}. Best is trial 59 with value: 0.9692691994887882.\u001b[0m\n",
      "\u001b[32m[I 2022-04-23 23:25:23,355]\u001b[0m Trial 96 finished with value: 0.9626757290577438 and parameters: {'max_depth': 9, 'min_child_weight': 1, 'learning_rate': 0.16448843457849607, 'colsample_bytree': 0.7142151000639094, 'n_estimators': 1000}. Best is trial 59 with value: 0.9692691994887882.\u001b[0m\n",
      "\u001b[32m[I 2022-04-23 23:25:23,745]\u001b[0m Trial 97 finished with value: 0.964868711513884 and parameters: {'max_depth': 10, 'min_child_weight': 1, 'learning_rate': 0.13752275590671217, 'colsample_bytree': 0.5892685444192403, 'n_estimators': 900}. Best is trial 59 with value: 0.9692691994887882.\u001b[0m\n",
      "\u001b[32m[I 2022-04-23 23:25:24,029]\u001b[0m Trial 98 finished with value: 0.9670616939700244 and parameters: {'max_depth': 6, 'min_child_weight': 1, 'learning_rate': 0.1489284468807547, 'colsample_bytree': 0.6073676348691628, 'n_estimators': 600}. Best is trial 59 with value: 0.9692691994887882.\u001b[0m\n",
      "\u001b[32m[I 2022-04-23 23:25:24,399]\u001b[0m Trial 99 finished with value: 0.9648396653886371 and parameters: {'max_depth': 8, 'min_child_weight': 2, 'learning_rate': 0.15663487251270208, 'colsample_bytree': 0.5781671297466754, 'n_estimators': 1000}. Best is trial 59 with value: 0.9692691994887882.\u001b[0m\n",
      "\n"
     ]
    }
   ],
   "source": [
    "study = optuna.create_study(direction='maximize')\n",
    "study.optimize(objective, n_trials=100, timeout=600, show_progress_bar=True)"
   ]
  },
  {
   "cell_type": "code",
   "execution_count": 6,
   "metadata": {},
   "outputs": [
    {
     "name": "stdout",
     "output_type": "stream",
     "text": [
      "Number of finished trials: 100\n",
      "Best trial:\n",
      "\tAccuracy: 0.9692691994887882\n",
      "\tBest Hyperparameters:\n",
      "\t\tmax_depth: 9\n",
      "\t\tmin_child_weight: 1\n",
      "\t\tlearning_rate: 0.1237459933232244\n",
      "\t\tcolsample_bytree: 0.6064401654451399\n",
      "\t\tn_estimators: 1000\n"
     ]
    }
   ],
   "source": [
    "print(f'Number of finished trials: {len(study.trials)}')\n",
    "\n",
    "trial = study.best_trial\n",
    "\n",
    "print('Best trial:')\n",
    "print(f'\\tAccuracy: {trial.value}')\n",
    "print(f'\\tBest Hyperparameters:')\n",
    "for key, value in trial.params.items():\n",
    "    print(f'\\t\\t{key}: {value}')"
   ]
  },
  {
   "cell_type": "code",
   "execution_count": 7,
   "metadata": {},
   "outputs": [
    {
     "name": "stdout",
     "output_type": "stream",
     "text": [
      "[0]\tvalidation_0-logloss:0.588882\tvalidation_1-logloss:0.623807\n",
      "Multiple eval metrics have been passed: 'validation_1-logloss' will be used for early stopping.\n",
      "\n",
      "Will train until validation_1-logloss hasn't improved in 100 rounds.\n",
      "[1]\tvalidation_0-logloss:0.508719\tvalidation_1-logloss:0.577291\n",
      "[2]\tvalidation_0-logloss:0.442136\tvalidation_1-logloss:0.52227\n",
      "[3]\tvalidation_0-logloss:0.386536\tvalidation_1-logloss:0.477589\n",
      "[4]\tvalidation_0-logloss:0.340778\tvalidation_1-logloss:0.44554\n",
      "[5]\tvalidation_0-logloss:0.301169\tvalidation_1-logloss:0.428629\n",
      "[6]\tvalidation_0-logloss:0.266524\tvalidation_1-logloss:0.399554\n",
      "[7]\tvalidation_0-logloss:0.23714\tvalidation_1-logloss:0.377767\n",
      "[8]\tvalidation_0-logloss:0.211496\tvalidation_1-logloss:0.358936\n",
      "[9]\tvalidation_0-logloss:0.189292\tvalidation_1-logloss:0.339962\n",
      "[10]\tvalidation_0-logloss:0.169644\tvalidation_1-logloss:0.324557\n",
      "[11]\tvalidation_0-logloss:0.153248\tvalidation_1-logloss:0.310906\n",
      "[12]\tvalidation_0-logloss:0.138716\tvalidation_1-logloss:0.30202\n",
      "[13]\tvalidation_0-logloss:0.126019\tvalidation_1-logloss:0.293082\n",
      "[14]\tvalidation_0-logloss:0.114806\tvalidation_1-logloss:0.284975\n",
      "[15]\tvalidation_0-logloss:0.104466\tvalidation_1-logloss:0.276665\n",
      "[16]\tvalidation_0-logloss:0.095782\tvalidation_1-logloss:0.270963\n",
      "[17]\tvalidation_0-logloss:0.088117\tvalidation_1-logloss:0.266585\n",
      "[18]\tvalidation_0-logloss:0.080977\tvalidation_1-logloss:0.263923\n",
      "[19]\tvalidation_0-logloss:0.075017\tvalidation_1-logloss:0.26104\n",
      "[20]\tvalidation_0-logloss:0.069304\tvalidation_1-logloss:0.256489\n",
      "[21]\tvalidation_0-logloss:0.064555\tvalidation_1-logloss:0.252972\n",
      "[22]\tvalidation_0-logloss:0.060262\tvalidation_1-logloss:0.249281\n",
      "[23]\tvalidation_0-logloss:0.056614\tvalidation_1-logloss:0.248265\n",
      "[24]\tvalidation_0-logloss:0.053182\tvalidation_1-logloss:0.247732\n",
      "[25]\tvalidation_0-logloss:0.049934\tvalidation_1-logloss:0.249498\n",
      "[26]\tvalidation_0-logloss:0.047005\tvalidation_1-logloss:0.250857\n",
      "[27]\tvalidation_0-logloss:0.04457\tvalidation_1-logloss:0.247747\n",
      "[28]\tvalidation_0-logloss:0.042147\tvalidation_1-logloss:0.247833\n",
      "[29]\tvalidation_0-logloss:0.039938\tvalidation_1-logloss:0.251215\n",
      "[30]\tvalidation_0-logloss:0.037519\tvalidation_1-logloss:0.247817\n",
      "[31]\tvalidation_0-logloss:0.035367\tvalidation_1-logloss:0.245503\n",
      "[32]\tvalidation_0-logloss:0.03341\tvalidation_1-logloss:0.241835\n",
      "[33]\tvalidation_0-logloss:0.031707\tvalidation_1-logloss:0.241339\n",
      "[34]\tvalidation_0-logloss:0.030093\tvalidation_1-logloss:0.23957\n",
      "[35]\tvalidation_0-logloss:0.028711\tvalidation_1-logloss:0.239852\n",
      "[36]\tvalidation_0-logloss:0.027208\tvalidation_1-logloss:0.237965\n",
      "[37]\tvalidation_0-logloss:0.025964\tvalidation_1-logloss:0.239865\n",
      "[38]\tvalidation_0-logloss:0.024854\tvalidation_1-logloss:0.240531\n",
      "[39]\tvalidation_0-logloss:0.02378\tvalidation_1-logloss:0.240042\n",
      "[40]\tvalidation_0-logloss:0.022813\tvalidation_1-logloss:0.239259\n",
      "[41]\tvalidation_0-logloss:0.021927\tvalidation_1-logloss:0.241821\n",
      "[42]\tvalidation_0-logloss:0.021073\tvalidation_1-logloss:0.241107\n",
      "[43]\tvalidation_0-logloss:0.020378\tvalidation_1-logloss:0.243029\n",
      "[44]\tvalidation_0-logloss:0.01966\tvalidation_1-logloss:0.242105\n",
      "[45]\tvalidation_0-logloss:0.018952\tvalidation_1-logloss:0.242004\n",
      "[46]\tvalidation_0-logloss:0.018318\tvalidation_1-logloss:0.242163\n",
      "[47]\tvalidation_0-logloss:0.01785\tvalidation_1-logloss:0.243325\n",
      "[48]\tvalidation_0-logloss:0.017374\tvalidation_1-logloss:0.244754\n",
      "[49]\tvalidation_0-logloss:0.016856\tvalidation_1-logloss:0.245912\n",
      "[50]\tvalidation_0-logloss:0.016537\tvalidation_1-logloss:0.248116\n",
      "[51]\tvalidation_0-logloss:0.016087\tvalidation_1-logloss:0.250883\n",
      "[52]\tvalidation_0-logloss:0.015788\tvalidation_1-logloss:0.252449\n",
      "[53]\tvalidation_0-logloss:0.015387\tvalidation_1-logloss:0.250843\n",
      "[54]\tvalidation_0-logloss:0.014987\tvalidation_1-logloss:0.250203\n",
      "[55]\tvalidation_0-logloss:0.014701\tvalidation_1-logloss:0.250371\n",
      "[56]\tvalidation_0-logloss:0.014367\tvalidation_1-logloss:0.249711\n",
      "[57]\tvalidation_0-logloss:0.014037\tvalidation_1-logloss:0.250025\n",
      "[58]\tvalidation_0-logloss:0.013841\tvalidation_1-logloss:0.252224\n",
      "[59]\tvalidation_0-logloss:0.013613\tvalidation_1-logloss:0.251054\n",
      "[60]\tvalidation_0-logloss:0.013391\tvalidation_1-logloss:0.25126\n",
      "[61]\tvalidation_0-logloss:0.013118\tvalidation_1-logloss:0.251383\n",
      "[62]\tvalidation_0-logloss:0.012822\tvalidation_1-logloss:0.250036\n",
      "[63]\tvalidation_0-logloss:0.012605\tvalidation_1-logloss:0.248479\n",
      "[64]\tvalidation_0-logloss:0.012434\tvalidation_1-logloss:0.250076\n",
      "[65]\tvalidation_0-logloss:0.012245\tvalidation_1-logloss:0.251183\n",
      "[66]\tvalidation_0-logloss:0.012036\tvalidation_1-logloss:0.251459\n",
      "[67]\tvalidation_0-logloss:0.011828\tvalidation_1-logloss:0.251498\n",
      "[68]\tvalidation_0-logloss:0.011662\tvalidation_1-logloss:0.250184\n",
      "[69]\tvalidation_0-logloss:0.011517\tvalidation_1-logloss:0.248994\n",
      "[70]\tvalidation_0-logloss:0.011353\tvalidation_1-logloss:0.249589\n",
      "[71]\tvalidation_0-logloss:0.01122\tvalidation_1-logloss:0.249493\n",
      "[72]\tvalidation_0-logloss:0.011054\tvalidation_1-logloss:0.250635\n",
      "[73]\tvalidation_0-logloss:0.010931\tvalidation_1-logloss:0.252166\n",
      "[74]\tvalidation_0-logloss:0.010815\tvalidation_1-logloss:0.252008\n",
      "[75]\tvalidation_0-logloss:0.010676\tvalidation_1-logloss:0.25232\n",
      "[76]\tvalidation_0-logloss:0.010568\tvalidation_1-logloss:0.252774\n",
      "[77]\tvalidation_0-logloss:0.010471\tvalidation_1-logloss:0.254323\n",
      "[78]\tvalidation_0-logloss:0.010353\tvalidation_1-logloss:0.255341\n",
      "[79]\tvalidation_0-logloss:0.010257\tvalidation_1-logloss:0.256354\n",
      "[80]\tvalidation_0-logloss:0.010182\tvalidation_1-logloss:0.255478\n",
      "[81]\tvalidation_0-logloss:0.010119\tvalidation_1-logloss:0.25469\n",
      "[82]\tvalidation_0-logloss:0.010064\tvalidation_1-logloss:0.25414\n",
      "[83]\tvalidation_0-logloss:0.009941\tvalidation_1-logloss:0.253958\n",
      "[84]\tvalidation_0-logloss:0.00985\tvalidation_1-logloss:0.25465\n",
      "[85]\tvalidation_0-logloss:0.00969\tvalidation_1-logloss:0.252516\n",
      "[86]\tvalidation_0-logloss:0.009637\tvalidation_1-logloss:0.251805\n",
      "[87]\tvalidation_0-logloss:0.009557\tvalidation_1-logloss:0.252531\n",
      "[88]\tvalidation_0-logloss:0.009469\tvalidation_1-logloss:0.252477\n",
      "[89]\tvalidation_0-logloss:0.009418\tvalidation_1-logloss:0.251938\n",
      "[90]\tvalidation_0-logloss:0.00937\tvalidation_1-logloss:0.251256\n",
      "[91]\tvalidation_0-logloss:0.009297\tvalidation_1-logloss:0.252013\n",
      "[92]\tvalidation_0-logloss:0.00925\tvalidation_1-logloss:0.251507\n",
      "[93]\tvalidation_0-logloss:0.009205\tvalidation_1-logloss:0.250858\n",
      "[94]\tvalidation_0-logloss:0.009115\tvalidation_1-logloss:0.249888\n",
      "[95]\tvalidation_0-logloss:0.009035\tvalidation_1-logloss:0.249217\n",
      "[96]\tvalidation_0-logloss:0.008969\tvalidation_1-logloss:0.25062\n",
      "[97]\tvalidation_0-logloss:0.008926\tvalidation_1-logloss:0.250135\n",
      "[98]\tvalidation_0-logloss:0.008883\tvalidation_1-logloss:0.251367\n",
      "[99]\tvalidation_0-logloss:0.008793\tvalidation_1-logloss:0.252344\n",
      "[100]\tvalidation_0-logloss:0.008674\tvalidation_1-logloss:0.250406\n",
      "[101]\tvalidation_0-logloss:0.008636\tvalidation_1-logloss:0.251585\n",
      "[102]\tvalidation_0-logloss:0.008595\tvalidation_1-logloss:0.251402\n",
      "[103]\tvalidation_0-logloss:0.008559\tvalidation_1-logloss:0.250818\n",
      "[104]\tvalidation_0-logloss:0.008524\tvalidation_1-logloss:0.250742\n",
      "[105]\tvalidation_0-logloss:0.008487\tvalidation_1-logloss:0.251904\n",
      "[106]\tvalidation_0-logloss:0.008434\tvalidation_1-logloss:0.251956\n",
      "[107]\tvalidation_0-logloss:0.008398\tvalidation_1-logloss:0.250403\n",
      "[108]\tvalidation_0-logloss:0.008363\tvalidation_1-logloss:0.249984\n",
      "[109]\tvalidation_0-logloss:0.008329\tvalidation_1-logloss:0.250166\n",
      "[110]\tvalidation_0-logloss:0.008294\tvalidation_1-logloss:0.250897\n",
      "[111]\tvalidation_0-logloss:0.008261\tvalidation_1-logloss:0.252012\n",
      "[112]\tvalidation_0-logloss:0.008228\tvalidation_1-logloss:0.251449\n",
      "[113]\tvalidation_0-logloss:0.008196\tvalidation_1-logloss:0.251454\n",
      "[114]\tvalidation_0-logloss:0.008165\tvalidation_1-logloss:0.25255\n",
      "[115]\tvalidation_0-logloss:0.008135\tvalidation_1-logloss:0.252019\n",
      "[116]\tvalidation_0-logloss:0.008102\tvalidation_1-logloss:0.250539\n",
      "[117]\tvalidation_0-logloss:0.008072\tvalidation_1-logloss:0.250387\n",
      "[118]\tvalidation_0-logloss:0.008041\tvalidation_1-logloss:0.25056\n",
      "[119]\tvalidation_0-logloss:0.008012\tvalidation_1-logloss:0.249149\n",
      "[120]\tvalidation_0-logloss:0.00798\tvalidation_1-logloss:0.250253\n",
      "[121]\tvalidation_0-logloss:0.00795\tvalidation_1-logloss:0.249868\n",
      "[122]\tvalidation_0-logloss:0.00792\tvalidation_1-logloss:0.250106\n",
      "[123]\tvalidation_0-logloss:0.007892\tvalidation_1-logloss:0.251162\n"
     ]
    },
    {
     "name": "stdout",
     "output_type": "stream",
     "text": [
      "[124]\tvalidation_0-logloss:0.007865\tvalidation_1-logloss:0.250808\n",
      "[125]\tvalidation_0-logloss:0.007838\tvalidation_1-logloss:0.250808\n",
      "[126]\tvalidation_0-logloss:0.007809\tvalidation_1-logloss:0.249374\n",
      "[127]\tvalidation_0-logloss:0.007781\tvalidation_1-logloss:0.250589\n",
      "[128]\tvalidation_0-logloss:0.007754\tvalidation_1-logloss:0.250091\n",
      "[129]\tvalidation_0-logloss:0.007727\tvalidation_1-logloss:0.251142\n",
      "[130]\tvalidation_0-logloss:0.007701\tvalidation_1-logloss:0.251081\n",
      "[131]\tvalidation_0-logloss:0.007675\tvalidation_1-logloss:0.251316\n",
      "[132]\tvalidation_0-logloss:0.007648\tvalidation_1-logloss:0.249942\n",
      "[133]\tvalidation_0-logloss:0.007623\tvalidation_1-logloss:0.249961\n",
      "[134]\tvalidation_0-logloss:0.007597\tvalidation_1-logloss:0.251004\n",
      "[135]\tvalidation_0-logloss:0.007572\tvalidation_1-logloss:0.250528\n",
      "[136]\tvalidation_0-logloss:0.007547\tvalidation_1-logloss:0.250418\n",
      "Stopping. Best iteration:\n",
      "[36]\tvalidation_0-logloss:0.027208\tvalidation_1-logloss:0.237965\n",
      "\n"
     ]
    },
    {
     "data": {
      "text/plain": [
       "XGBClassifier(colsample_bytree=0.6064401654451399,\n",
       "              learning_rate=0.1237459933232244, max_depth=9, n_estimators=1000)"
      ]
     },
     "execution_count": 7,
     "metadata": {},
     "output_type": "execute_result"
    }
   ],
   "source": [
    "evals = [(x_tr, y_tr), (x_val, y_val)]\n",
    "\n",
    "best_clf = XGBClassifier(**study.best_params)\n",
    "best_clf.fit(x_tr, y_tr, early_stopping_rounds=100, eval_metric='logloss', \n",
    "             eval_set=evals, verbose=True)"
   ]
  },
  {
   "cell_type": "code",
   "execution_count": 8,
   "metadata": {},
   "outputs": [],
   "source": [
    "preds = best_clf.predict(x_test)\n",
    "pred_proba = best_clf.predict_proba(x_test)[:, 1]"
   ]
  },
  {
   "cell_type": "code",
   "execution_count": 9,
   "metadata": {},
   "outputs": [],
   "source": [
    "from sklearn.metrics import confusion_matrix, accuracy_score, precision_score, \\\n",
    "                            recall_score, f1_score, roc_auc_score\n",
    "\n",
    "def get_clf_eval(y_test, pred=None, pred_proba=None):\n",
    "    confusion = confusion_matrix(y_test, pred)\n",
    "    accuracy = accuracy_score(y_test, pred)\n",
    "    precision = precision_score(y_test, pred)\n",
    "    recall = recall_score(y_test, pred)\n",
    "    f1 = f1_score(y_test, pred)\n",
    "    roc_auc = roc_auc_score(y_test, pred_proba)\n",
    "    print(f'confusion matrix\\n{confusion}')\n",
    "    print(f'accuracy: {accuracy:.4f}, precision: {precision:.4f}, recall: {recall:.4f}')\n",
    "    print(f'F1: {f1:.4f}, AUC: {roc_auc:.4f}')"
   ]
  },
  {
   "cell_type": "code",
   "execution_count": 10,
   "metadata": {},
   "outputs": [
    {
     "name": "stdout",
     "output_type": "stream",
     "text": [
      "confusion matrix\n",
      "[[34  3]\n",
      " [ 2 75]]\n",
      "accuracy: 0.9561, precision: 0.9615, recall: 0.9740\n",
      "F1: 0.9677, AUC: 0.9926\n"
     ]
    }
   ],
   "source": [
    "get_clf_eval(y_test, preds, pred_proba)"
   ]
  },
  {
   "cell_type": "code",
   "execution_count": null,
   "metadata": {},
   "outputs": [],
   "source": []
  }
 ],
 "metadata": {
  "kernelspec": {
   "display_name": "Python 3",
   "language": "python",
   "name": "python3"
  },
  "language_info": {
   "codemirror_mode": {
    "name": "ipython",
    "version": 3
   },
   "file_extension": ".py",
   "mimetype": "text/x-python",
   "name": "python",
   "nbconvert_exporter": "python",
   "pygments_lexer": "ipython3",
   "version": "3.7.0"
  }
 },
 "nbformat": 4,
 "nbformat_minor": 4
}
