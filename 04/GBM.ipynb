{
 "cells": [
  {
   "cell_type": "code",
   "execution_count": 1,
   "metadata": {},
   "outputs": [],
   "source": [
    "import pandas as pd\n",
    "\n",
    "def get_new_feature_name_df(old_feature_name_df):\n",
    "    feature_dup_df = pd.DataFrame(data=old_feature_name_df.groupby('column_name').cumcount(), columns=['dup_cnt'])\n",
    "    feature_dup_df = feature_dup_df.reset_index()\n",
    "    new_feature_name_df = pd.merge(old_feature_name_df.reset_index(), feature_dup_df, how='outer')\n",
    "    new_feature_name_df['column_name'] = new_feature_name_df[['column_name', 'dup_cnt']].apply(lambda x : x[0]+'_'+str(x[1]) \n",
    "                                                                                           if x[1] > 0 else x[0] ,  axis=1)\n",
    "    new_feature_name_df = new_feature_name_df.drop(['index'], axis=1)\n",
    "    return new_feature_name_df\n",
    "\n",
    "\n",
    "def get_human_dataset():\n",
    "    feature_name_df = pd.read_csv('../data/UCI HAR Dataset/features.txt', sep='\\s+', \n",
    "                              header=None, names=['column_index', 'column_name'])\n",
    "    new_feature_name_df = get_new_feature_name_df(feature_name_df)\n",
    "    feature_name = new_feature_name_df.iloc[:, 1].values.tolist()\n",
    "    \n",
    "    X_train = pd.read_csv('../data/UCI HAR Dataset/train/X_train.txt', sep='\\s+', names=feature_name)\n",
    "    X_test = pd.read_csv('../data/UCI HAR Dataset/test/X_test.txt', sep='\\s+', names=feature_name)\n",
    "    \n",
    "    y_train = pd.read_csv('../data/UCI HAR Dataset/train/y_train.txt', sep='\\s+', header=None, names=['action'])\n",
    "    y_test = pd.read_csv('../data/UCI HAR Dataset/test/y_test.txt', sep='\\s+', header=None, names=['action'])\n",
    "    \n",
    "    return X_train, X_test, y_train, y_test"
   ]
  },
  {
   "cell_type": "code",
   "execution_count": 2,
   "metadata": {},
   "outputs": [],
   "source": [
    "X_train, X_test, y_train, y_test = get_human_dataset()"
   ]
  },
  {
   "cell_type": "code",
   "execution_count": 3,
   "metadata": {},
   "outputs": [
    {
     "name": "stdout",
     "output_type": "stream",
     "text": [
      "accuracy : 0.9389\n",
      "time : 571.8220 sec\n"
     ]
    }
   ],
   "source": [
    "from sklearn.ensemble import GradientBoostingClassifier\n",
    "from sklearn.metrics import accuracy_score\n",
    "import time\n",
    "import warnings\n",
    "warnings.filterwarnings('ignore')\n",
    "\n",
    "start_time = time.time()\n",
    "gb_clf = GradientBoostingClassifier(random_state=0)\n",
    "gb_clf.fit(X_train, y_train)\n",
    "pred = gb_clf.predict(X_test)\n",
    "accuracy = accuracy_score(y_test, pred)\n",
    "print(f'accuracy : {accuracy:.4f}')\n",
    "print(f'time : {time.time() - start_time:.4f} sec')"
   ]
  },
  {
   "cell_type": "code",
   "execution_count": 4,
   "metadata": {},
   "outputs": [
    {
     "name": "stdout",
     "output_type": "stream",
     "text": [
      "Fitting 2 folds for each of 4 candidates, totalling 8 fits\n"
     ]
    },
    {
     "name": "stderr",
     "output_type": "stream",
     "text": [
      "[Parallel(n_jobs=1)]: Using backend SequentialBackend with 1 concurrent workers.\n",
      "[Parallel(n_jobs=1)]: Done   8 out of   8 | elapsed: 106.5min finished\n"
     ]
    },
    {
     "name": "stdout",
     "output_type": "stream",
     "text": [
      "best parameter : {'learning_rate': 0.1, 'n_estimators': 500}\n",
      "best accuracy : 0.9011\n"
     ]
    }
   ],
   "source": [
    "from sklearn.model_selection import GridSearchCV\n",
    "\n",
    "params = {\n",
    "    'n_estimators': [100, 500],\n",
    "    'learning_rate': [0.05, 0.1]\n",
    "}\n",
    "\n",
    "grid_cv = GridSearchCV(gb_clf, param_grid=params, cv=2, verbose=1)\n",
    "grid_cv.fit(X_train, y_train)\n",
    "print(f'best parameter : {grid_cv.best_params_}')\n",
    "print(f'best accuracy : {grid_cv.best_score_:.4f}')"
   ]
  },
  {
   "cell_type": "code",
   "execution_count": 5,
   "metadata": {},
   "outputs": [
    {
     "data": {
      "text/html": [
       "<div>\n",
       "<style scoped>\n",
       "    .dataframe tbody tr th:only-of-type {\n",
       "        vertical-align: middle;\n",
       "    }\n",
       "\n",
       "    .dataframe tbody tr th {\n",
       "        vertical-align: top;\n",
       "    }\n",
       "\n",
       "    .dataframe thead th {\n",
       "        text-align: right;\n",
       "    }\n",
       "</style>\n",
       "<table border=\"1\" class=\"dataframe\">\n",
       "  <thead>\n",
       "    <tr style=\"text-align: right;\">\n",
       "      <th></th>\n",
       "      <th>params</th>\n",
       "      <th>mean_test_score</th>\n",
       "      <th>rank_test_score</th>\n",
       "      <th>split0_test_score</th>\n",
       "      <th>split1_test_score</th>\n",
       "    </tr>\n",
       "  </thead>\n",
       "  <tbody>\n",
       "    <tr>\n",
       "      <th>0</th>\n",
       "      <td>{'learning_rate': 0.05, 'n_estimators': 100}</td>\n",
       "      <td>0.899619</td>\n",
       "      <td>3</td>\n",
       "      <td>0.886834</td>\n",
       "      <td>0.912405</td>\n",
       "    </tr>\n",
       "    <tr>\n",
       "      <th>1</th>\n",
       "      <td>{'learning_rate': 0.05, 'n_estimators': 500}</td>\n",
       "      <td>0.900299</td>\n",
       "      <td>2</td>\n",
       "      <td>0.890098</td>\n",
       "      <td>0.910501</td>\n",
       "    </tr>\n",
       "    <tr>\n",
       "      <th>2</th>\n",
       "      <td>{'learning_rate': 0.1, 'n_estimators': 100}</td>\n",
       "      <td>0.898939</td>\n",
       "      <td>4</td>\n",
       "      <td>0.886561</td>\n",
       "      <td>0.911317</td>\n",
       "    </tr>\n",
       "    <tr>\n",
       "      <th>3</th>\n",
       "      <td>{'learning_rate': 0.1, 'n_estimators': 500}</td>\n",
       "      <td>0.901115</td>\n",
       "      <td>1</td>\n",
       "      <td>0.889826</td>\n",
       "      <td>0.912405</td>\n",
       "    </tr>\n",
       "  </tbody>\n",
       "</table>\n",
       "</div>"
      ],
      "text/plain": [
       "                                         params  mean_test_score  \\\n",
       "0  {'learning_rate': 0.05, 'n_estimators': 100}         0.899619   \n",
       "1  {'learning_rate': 0.05, 'n_estimators': 500}         0.900299   \n",
       "2   {'learning_rate': 0.1, 'n_estimators': 100}         0.898939   \n",
       "3   {'learning_rate': 0.1, 'n_estimators': 500}         0.901115   \n",
       "\n",
       "   rank_test_score  split0_test_score  split1_test_score  \n",
       "0                3           0.886834           0.912405  \n",
       "1                2           0.890098           0.910501  \n",
       "2                4           0.886561           0.911317  \n",
       "3                1           0.889826           0.912405  "
      ]
     },
     "execution_count": 5,
     "metadata": {},
     "output_type": "execute_result"
    }
   ],
   "source": [
    "scores_df = pd.DataFrame(grid_cv.cv_results_)\n",
    "scores_df[\n",
    "    ['params', 'mean_test_score', 'rank_test_score', 'split0_test_score', 'split1_test_score']\n",
    "]"
   ]
  },
  {
   "cell_type": "code",
   "execution_count": 6,
   "metadata": {},
   "outputs": [
    {
     "name": "stdout",
     "output_type": "stream",
     "text": [
      "accuracy : 0.9420\n"
     ]
    }
   ],
   "source": [
    "pred = grid_cv.best_estimator_.predict(X_test)\n",
    "accuracy = accuracy_score(y_test, pred)\n",
    "print(f'accuracy : {accuracy:.4f}')"
   ]
  }
 ],
 "metadata": {
  "kernelspec": {
   "display_name": "Python 3",
   "language": "python",
   "name": "python3"
  },
  "language_info": {
   "codemirror_mode": {
    "name": "ipython",
    "version": 3
   },
   "file_extension": ".py",
   "mimetype": "text/x-python",
   "name": "python",
   "nbconvert_exporter": "python",
   "pygments_lexer": "ipython3",
   "version": "3.7.0"
  }
 },
 "nbformat": 4,
 "nbformat_minor": 4
}
